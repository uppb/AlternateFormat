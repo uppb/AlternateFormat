{
 "cells": [
  {
   "cell_type": "markdown",
   "metadata": {},
   "source": [
    "# <center>An Introduction to Monte Carlo Methods</center>\n",
    "Monte Carlo methods are statistical techniques that solves complex mathematical problems. Its name refers to the Monte Carlo Casino in Monaco. The method is first proposed by Stanislaw Ulam in 1940s. He became interested in plotting the outcomes of solitare games and mapping the distribution of it during recovery from an illness. Later Jon Von Neumann collaborated with Ulam to develop Monte Carlo methods. The core idea behind the method is fairly simple and easy to implement. Yet, it can be used to solve very complex problems. Monte Carlo method is often the easiest way to approach a mathematical problem. Sometimes it may even be the only solution. \n",
    "\n",
    "Monte Carlo is not a single algorithm but rather a family of problem solving techniques. All of which uses random numbers to build a probabilistic model that approximates the optimum solution. These techniques include Monte Carlo methods, Monte Carlo simulations, Monte Carlo tree search, etc. Monte Carlo tree search specifically, is useful for searching the best move in the game. AlphaGo is one of the famous implementations of Monte Carlo tree search.\n",
    "\n",
    "In this notebook, we will introduce some of the applications of Monte Carlo methods."
   ]
  },
  {
   "cell_type": "code",
   "execution_count": 1,
   "metadata": {
    "ExecuteTime": {
     "end_time": "2021-04-25T04:40:50.831191Z",
     "start_time": "2021-04-25T04:40:49.519271Z"
    }
   },
   "outputs": [
    {
     "data": {
      "text/html": [
       "\n",
       "    <div class=\"bk-root\">\n",
       "        <a href=\"https://bokeh.org\" target=\"_blank\" class=\"bk-logo bk-logo-small bk-logo-notebook\"></a>\n",
       "        <span id=\"1002\">Loading BokehJS ...</span>\n",
       "    </div>"
      ]
     },
     "metadata": {},
     "output_type": "display_data"
    },
    {
     "data": {
      "application/javascript": [
       "\n",
       "(function(root) {\n",
       "  function now() {\n",
       "    return new Date();\n",
       "  }\n",
       "\n",
       "  var force = true;\n",
       "\n",
       "  if (typeof root._bokeh_onload_callbacks === \"undefined\" || force === true) {\n",
       "    root._bokeh_onload_callbacks = [];\n",
       "    root._bokeh_is_loading = undefined;\n",
       "  }\n",
       "\n",
       "  var JS_MIME_TYPE = 'application/javascript';\n",
       "  var HTML_MIME_TYPE = 'text/html';\n",
       "  var EXEC_MIME_TYPE = 'application/vnd.bokehjs_exec.v0+json';\n",
       "  var CLASS_NAME = 'output_bokeh rendered_html';\n",
       "\n",
       "  /**\n",
       "   * Render data to the DOM node\n",
       "   */\n",
       "  function render(props, node) {\n",
       "    var script = document.createElement(\"script\");\n",
       "    node.appendChild(script);\n",
       "  }\n",
       "\n",
       "  /**\n",
       "   * Handle when an output is cleared or removed\n",
       "   */\n",
       "  function handleClearOutput(event, handle) {\n",
       "    var cell = handle.cell;\n",
       "\n",
       "    var id = cell.output_area._bokeh_element_id;\n",
       "    var server_id = cell.output_area._bokeh_server_id;\n",
       "    // Clean up Bokeh references\n",
       "    if (id != null && id in Bokeh.index) {\n",
       "      Bokeh.index[id].model.document.clear();\n",
       "      delete Bokeh.index[id];\n",
       "    }\n",
       "\n",
       "    if (server_id !== undefined) {\n",
       "      // Clean up Bokeh references\n",
       "      var cmd = \"from bokeh.io.state import curstate; print(curstate().uuid_to_server['\" + server_id + \"'].get_sessions()[0].document.roots[0]._id)\";\n",
       "      cell.notebook.kernel.execute(cmd, {\n",
       "        iopub: {\n",
       "          output: function(msg) {\n",
       "            var id = msg.content.text.trim();\n",
       "            if (id in Bokeh.index) {\n",
       "              Bokeh.index[id].model.document.clear();\n",
       "              delete Bokeh.index[id];\n",
       "            }\n",
       "          }\n",
       "        }\n",
       "      });\n",
       "      // Destroy server and session\n",
       "      var cmd = \"import bokeh.io.notebook as ion; ion.destroy_server('\" + server_id + \"')\";\n",
       "      cell.notebook.kernel.execute(cmd);\n",
       "    }\n",
       "  }\n",
       "\n",
       "  /**\n",
       "   * Handle when a new output is added\n",
       "   */\n",
       "  function handleAddOutput(event, handle) {\n",
       "    var output_area = handle.output_area;\n",
       "    var output = handle.output;\n",
       "\n",
       "    // limit handleAddOutput to display_data with EXEC_MIME_TYPE content only\n",
       "    if ((output.output_type != \"display_data\") || (!Object.prototype.hasOwnProperty.call(output.data, EXEC_MIME_TYPE))) {\n",
       "      return\n",
       "    }\n",
       "\n",
       "    var toinsert = output_area.element.find(\".\" + CLASS_NAME.split(' ')[0]);\n",
       "\n",
       "    if (output.metadata[EXEC_MIME_TYPE][\"id\"] !== undefined) {\n",
       "      toinsert[toinsert.length - 1].firstChild.textContent = output.data[JS_MIME_TYPE];\n",
       "      // store reference to embed id on output_area\n",
       "      output_area._bokeh_element_id = output.metadata[EXEC_MIME_TYPE][\"id\"];\n",
       "    }\n",
       "    if (output.metadata[EXEC_MIME_TYPE][\"server_id\"] !== undefined) {\n",
       "      var bk_div = document.createElement(\"div\");\n",
       "      bk_div.innerHTML = output.data[HTML_MIME_TYPE];\n",
       "      var script_attrs = bk_div.children[0].attributes;\n",
       "      for (var i = 0; i < script_attrs.length; i++) {\n",
       "        toinsert[toinsert.length - 1].firstChild.setAttribute(script_attrs[i].name, script_attrs[i].value);\n",
       "        toinsert[toinsert.length - 1].firstChild.textContent = bk_div.children[0].textContent\n",
       "      }\n",
       "      // store reference to server id on output_area\n",
       "      output_area._bokeh_server_id = output.metadata[EXEC_MIME_TYPE][\"server_id\"];\n",
       "    }\n",
       "  }\n",
       "\n",
       "  function register_renderer(events, OutputArea) {\n",
       "\n",
       "    function append_mime(data, metadata, element) {\n",
       "      // create a DOM node to render to\n",
       "      var toinsert = this.create_output_subarea(\n",
       "        metadata,\n",
       "        CLASS_NAME,\n",
       "        EXEC_MIME_TYPE\n",
       "      );\n",
       "      this.keyboard_manager.register_events(toinsert);\n",
       "      // Render to node\n",
       "      var props = {data: data, metadata: metadata[EXEC_MIME_TYPE]};\n",
       "      render(props, toinsert[toinsert.length - 1]);\n",
       "      element.append(toinsert);\n",
       "      return toinsert\n",
       "    }\n",
       "\n",
       "    /* Handle when an output is cleared or removed */\n",
       "    events.on('clear_output.CodeCell', handleClearOutput);\n",
       "    events.on('delete.Cell', handleClearOutput);\n",
       "\n",
       "    /* Handle when a new output is added */\n",
       "    events.on('output_added.OutputArea', handleAddOutput);\n",
       "\n",
       "    /**\n",
       "     * Register the mime type and append_mime function with output_area\n",
       "     */\n",
       "    OutputArea.prototype.register_mime_type(EXEC_MIME_TYPE, append_mime, {\n",
       "      /* Is output safe? */\n",
       "      safe: true,\n",
       "      /* Index of renderer in `output_area.display_order` */\n",
       "      index: 0\n",
       "    });\n",
       "  }\n",
       "\n",
       "  // register the mime type if in Jupyter Notebook environment and previously unregistered\n",
       "  if (root.Jupyter !== undefined) {\n",
       "    var events = require('base/js/events');\n",
       "    var OutputArea = require('notebook/js/outputarea').OutputArea;\n",
       "\n",
       "    if (OutputArea.prototype.mime_types().indexOf(EXEC_MIME_TYPE) == -1) {\n",
       "      register_renderer(events, OutputArea);\n",
       "    }\n",
       "  }\n",
       "\n",
       "  \n",
       "  if (typeof (root._bokeh_timeout) === \"undefined\" || force === true) {\n",
       "    root._bokeh_timeout = Date.now() + 5000;\n",
       "    root._bokeh_failed_load = false;\n",
       "  }\n",
       "\n",
       "  var NB_LOAD_WARNING = {'data': {'text/html':\n",
       "     \"<div style='background-color: #fdd'>\\n\"+\n",
       "     \"<p>\\n\"+\n",
       "     \"BokehJS does not appear to have successfully loaded. If loading BokehJS from CDN, this \\n\"+\n",
       "     \"may be due to a slow or bad network connection. Possible fixes:\\n\"+\n",
       "     \"</p>\\n\"+\n",
       "     \"<ul>\\n\"+\n",
       "     \"<li>re-rerun `output_notebook()` to attempt to load from CDN again, or</li>\\n\"+\n",
       "     \"<li>use INLINE resources instead, as so:</li>\\n\"+\n",
       "     \"</ul>\\n\"+\n",
       "     \"<code>\\n\"+\n",
       "     \"from bokeh.resources import INLINE\\n\"+\n",
       "     \"output_notebook(resources=INLINE)\\n\"+\n",
       "     \"</code>\\n\"+\n",
       "     \"</div>\"}};\n",
       "\n",
       "  function display_loaded() {\n",
       "    var el = document.getElementById(\"1002\");\n",
       "    if (el != null) {\n",
       "      el.textContent = \"BokehJS is loading...\";\n",
       "    }\n",
       "    if (root.Bokeh !== undefined) {\n",
       "      if (el != null) {\n",
       "        el.textContent = \"BokehJS \" + root.Bokeh.version + \" successfully loaded.\";\n",
       "      }\n",
       "    } else if (Date.now() < root._bokeh_timeout) {\n",
       "      setTimeout(display_loaded, 100)\n",
       "    }\n",
       "  }\n",
       "\n",
       "\n",
       "  function run_callbacks() {\n",
       "    try {\n",
       "      root._bokeh_onload_callbacks.forEach(function(callback) {\n",
       "        if (callback != null)\n",
       "          callback();\n",
       "      });\n",
       "    } finally {\n",
       "      delete root._bokeh_onload_callbacks\n",
       "    }\n",
       "    console.debug(\"Bokeh: all callbacks have finished\");\n",
       "  }\n",
       "\n",
       "  function load_libs(css_urls, js_urls, callback) {\n",
       "    if (css_urls == null) css_urls = [];\n",
       "    if (js_urls == null) js_urls = [];\n",
       "\n",
       "    root._bokeh_onload_callbacks.push(callback);\n",
       "    if (root._bokeh_is_loading > 0) {\n",
       "      console.debug(\"Bokeh: BokehJS is being loaded, scheduling callback at\", now());\n",
       "      return null;\n",
       "    }\n",
       "    if (js_urls == null || js_urls.length === 0) {\n",
       "      run_callbacks();\n",
       "      return null;\n",
       "    }\n",
       "    console.debug(\"Bokeh: BokehJS not loaded, scheduling load and callback at\", now());\n",
       "    root._bokeh_is_loading = css_urls.length + js_urls.length;\n",
       "\n",
       "    function on_load() {\n",
       "      root._bokeh_is_loading--;\n",
       "      if (root._bokeh_is_loading === 0) {\n",
       "        console.debug(\"Bokeh: all BokehJS libraries/stylesheets loaded\");\n",
       "        run_callbacks()\n",
       "      }\n",
       "    }\n",
       "\n",
       "    function on_error(url) {\n",
       "      console.error(\"failed to load \" + url);\n",
       "    }\n",
       "\n",
       "    for (let i = 0; i < css_urls.length; i++) {\n",
       "      const url = css_urls[i];\n",
       "      const element = document.createElement(\"link\");\n",
       "      element.onload = on_load;\n",
       "      element.onerror = on_error.bind(null, url);\n",
       "      element.rel = \"stylesheet\";\n",
       "      element.type = \"text/css\";\n",
       "      element.href = url;\n",
       "      console.debug(\"Bokeh: injecting link tag for BokehJS stylesheet: \", url);\n",
       "      document.body.appendChild(element);\n",
       "    }\n",
       "\n",
       "    const hashes = {\"https://cdn.bokeh.org/bokeh/release/bokeh-2.3.1.min.js\": \"YF85VygJKMVnHE+lLv2AM93Vbstr0yo2TbIu5v8se5Rq3UQAUmcuh4aaJwNlpKwa\", \"https://cdn.bokeh.org/bokeh/release/bokeh-widgets-2.3.1.min.js\": \"KKuas3gevv3PvrlkyCMzffFeaMq5we/a2QsP5AUoS3mJ0jmaCL7jirFJN3GoE/lM\", \"https://cdn.bokeh.org/bokeh/release/bokeh-tables-2.3.1.min.js\": \"MK/uFc3YT18pkvvXRl66tTHjP0/dxoSH2e/eiNMFIguKlun2+WVqaPTWmUy/zvh4\"};\n",
       "\n",
       "    for (let i = 0; i < js_urls.length; i++) {\n",
       "      const url = js_urls[i];\n",
       "      const element = document.createElement('script');\n",
       "      element.onload = on_load;\n",
       "      element.onerror = on_error.bind(null, url);\n",
       "      element.async = false;\n",
       "      element.src = url;\n",
       "      if (url in hashes) {\n",
       "        element.crossOrigin = \"anonymous\";\n",
       "        element.integrity = \"sha384-\" + hashes[url];\n",
       "      }\n",
       "      console.debug(\"Bokeh: injecting script tag for BokehJS library: \", url);\n",
       "      document.head.appendChild(element);\n",
       "    }\n",
       "  };\n",
       "\n",
       "  function inject_raw_css(css) {\n",
       "    const element = document.createElement(\"style\");\n",
       "    element.appendChild(document.createTextNode(css));\n",
       "    document.body.appendChild(element);\n",
       "  }\n",
       "\n",
       "  \n",
       "  var js_urls = [\"https://cdn.bokeh.org/bokeh/release/bokeh-2.3.1.min.js\", \"https://cdn.bokeh.org/bokeh/release/bokeh-widgets-2.3.1.min.js\", \"https://cdn.bokeh.org/bokeh/release/bokeh-tables-2.3.1.min.js\"];\n",
       "  var css_urls = [];\n",
       "  \n",
       "\n",
       "  var inline_js = [\n",
       "    function(Bokeh) {\n",
       "      Bokeh.set_log_level(\"info\");\n",
       "    },\n",
       "    function(Bokeh) {\n",
       "    \n",
       "    \n",
       "    }\n",
       "  ];\n",
       "\n",
       "  function run_inline_js() {\n",
       "    \n",
       "    if (root.Bokeh !== undefined || force === true) {\n",
       "      \n",
       "    for (var i = 0; i < inline_js.length; i++) {\n",
       "      inline_js[i].call(root, root.Bokeh);\n",
       "    }\n",
       "    if (force === true) {\n",
       "        display_loaded();\n",
       "      }} else if (Date.now() < root._bokeh_timeout) {\n",
       "      setTimeout(run_inline_js, 100);\n",
       "    } else if (!root._bokeh_failed_load) {\n",
       "      console.log(\"Bokeh: BokehJS failed to load within specified timeout.\");\n",
       "      root._bokeh_failed_load = true;\n",
       "    } else if (force !== true) {\n",
       "      var cell = $(document.getElementById(\"1002\")).parents('.cell').data().cell;\n",
       "      cell.output_area.append_execute_result(NB_LOAD_WARNING)\n",
       "    }\n",
       "\n",
       "  }\n",
       "\n",
       "  if (root._bokeh_is_loading === 0) {\n",
       "    console.debug(\"Bokeh: BokehJS loaded, going straight to plotting\");\n",
       "    run_inline_js();\n",
       "  } else {\n",
       "    load_libs(css_urls, js_urls, function() {\n",
       "      console.debug(\"Bokeh: BokehJS plotting callback run at\", now());\n",
       "      run_inline_js();\n",
       "    });\n",
       "  }\n",
       "}(window));"
      ],
      "application/vnd.bokehjs_load.v0+json": "\n(function(root) {\n  function now() {\n    return new Date();\n  }\n\n  var force = true;\n\n  if (typeof root._bokeh_onload_callbacks === \"undefined\" || force === true) {\n    root._bokeh_onload_callbacks = [];\n    root._bokeh_is_loading = undefined;\n  }\n\n  \n\n  \n  if (typeof (root._bokeh_timeout) === \"undefined\" || force === true) {\n    root._bokeh_timeout = Date.now() + 5000;\n    root._bokeh_failed_load = false;\n  }\n\n  var NB_LOAD_WARNING = {'data': {'text/html':\n     \"<div style='background-color: #fdd'>\\n\"+\n     \"<p>\\n\"+\n     \"BokehJS does not appear to have successfully loaded. If loading BokehJS from CDN, this \\n\"+\n     \"may be due to a slow or bad network connection. Possible fixes:\\n\"+\n     \"</p>\\n\"+\n     \"<ul>\\n\"+\n     \"<li>re-rerun `output_notebook()` to attempt to load from CDN again, or</li>\\n\"+\n     \"<li>use INLINE resources instead, as so:</li>\\n\"+\n     \"</ul>\\n\"+\n     \"<code>\\n\"+\n     \"from bokeh.resources import INLINE\\n\"+\n     \"output_notebook(resources=INLINE)\\n\"+\n     \"</code>\\n\"+\n     \"</div>\"}};\n\n  function display_loaded() {\n    var el = document.getElementById(\"1002\");\n    if (el != null) {\n      el.textContent = \"BokehJS is loading...\";\n    }\n    if (root.Bokeh !== undefined) {\n      if (el != null) {\n        el.textContent = \"BokehJS \" + root.Bokeh.version + \" successfully loaded.\";\n      }\n    } else if (Date.now() < root._bokeh_timeout) {\n      setTimeout(display_loaded, 100)\n    }\n  }\n\n\n  function run_callbacks() {\n    try {\n      root._bokeh_onload_callbacks.forEach(function(callback) {\n        if (callback != null)\n          callback();\n      });\n    } finally {\n      delete root._bokeh_onload_callbacks\n    }\n    console.debug(\"Bokeh: all callbacks have finished\");\n  }\n\n  function load_libs(css_urls, js_urls, callback) {\n    if (css_urls == null) css_urls = [];\n    if (js_urls == null) js_urls = [];\n\n    root._bokeh_onload_callbacks.push(callback);\n    if (root._bokeh_is_loading > 0) {\n      console.debug(\"Bokeh: BokehJS is being loaded, scheduling callback at\", now());\n      return null;\n    }\n    if (js_urls == null || js_urls.length === 0) {\n      run_callbacks();\n      return null;\n    }\n    console.debug(\"Bokeh: BokehJS not loaded, scheduling load and callback at\", now());\n    root._bokeh_is_loading = css_urls.length + js_urls.length;\n\n    function on_load() {\n      root._bokeh_is_loading--;\n      if (root._bokeh_is_loading === 0) {\n        console.debug(\"Bokeh: all BokehJS libraries/stylesheets loaded\");\n        run_callbacks()\n      }\n    }\n\n    function on_error(url) {\n      console.error(\"failed to load \" + url);\n    }\n\n    for (let i = 0; i < css_urls.length; i++) {\n      const url = css_urls[i];\n      const element = document.createElement(\"link\");\n      element.onload = on_load;\n      element.onerror = on_error.bind(null, url);\n      element.rel = \"stylesheet\";\n      element.type = \"text/css\";\n      element.href = url;\n      console.debug(\"Bokeh: injecting link tag for BokehJS stylesheet: \", url);\n      document.body.appendChild(element);\n    }\n\n    const hashes = {\"https://cdn.bokeh.org/bokeh/release/bokeh-2.3.1.min.js\": \"YF85VygJKMVnHE+lLv2AM93Vbstr0yo2TbIu5v8se5Rq3UQAUmcuh4aaJwNlpKwa\", \"https://cdn.bokeh.org/bokeh/release/bokeh-widgets-2.3.1.min.js\": \"KKuas3gevv3PvrlkyCMzffFeaMq5we/a2QsP5AUoS3mJ0jmaCL7jirFJN3GoE/lM\", \"https://cdn.bokeh.org/bokeh/release/bokeh-tables-2.3.1.min.js\": \"MK/uFc3YT18pkvvXRl66tTHjP0/dxoSH2e/eiNMFIguKlun2+WVqaPTWmUy/zvh4\"};\n\n    for (let i = 0; i < js_urls.length; i++) {\n      const url = js_urls[i];\n      const element = document.createElement('script');\n      element.onload = on_load;\n      element.onerror = on_error.bind(null, url);\n      element.async = false;\n      element.src = url;\n      if (url in hashes) {\n        element.crossOrigin = \"anonymous\";\n        element.integrity = \"sha384-\" + hashes[url];\n      }\n      console.debug(\"Bokeh: injecting script tag for BokehJS library: \", url);\n      document.head.appendChild(element);\n    }\n  };\n\n  function inject_raw_css(css) {\n    const element = document.createElement(\"style\");\n    element.appendChild(document.createTextNode(css));\n    document.body.appendChild(element);\n  }\n\n  \n  var js_urls = [\"https://cdn.bokeh.org/bokeh/release/bokeh-2.3.1.min.js\", \"https://cdn.bokeh.org/bokeh/release/bokeh-widgets-2.3.1.min.js\", \"https://cdn.bokeh.org/bokeh/release/bokeh-tables-2.3.1.min.js\"];\n  var css_urls = [];\n  \n\n  var inline_js = [\n    function(Bokeh) {\n      Bokeh.set_log_level(\"info\");\n    },\n    function(Bokeh) {\n    \n    \n    }\n  ];\n\n  function run_inline_js() {\n    \n    if (root.Bokeh !== undefined || force === true) {\n      \n    for (var i = 0; i < inline_js.length; i++) {\n      inline_js[i].call(root, root.Bokeh);\n    }\n    if (force === true) {\n        display_loaded();\n      }} else if (Date.now() < root._bokeh_timeout) {\n      setTimeout(run_inline_js, 100);\n    } else if (!root._bokeh_failed_load) {\n      console.log(\"Bokeh: BokehJS failed to load within specified timeout.\");\n      root._bokeh_failed_load = true;\n    } else if (force !== true) {\n      var cell = $(document.getElementById(\"1002\")).parents('.cell').data().cell;\n      cell.output_area.append_execute_result(NB_LOAD_WARNING)\n    }\n\n  }\n\n  if (root._bokeh_is_loading === 0) {\n    console.debug(\"Bokeh: BokehJS loaded, going straight to plotting\");\n    run_inline_js();\n  } else {\n    load_libs(css_urls, js_urls, function() {\n      console.debug(\"Bokeh: BokehJS plotting callback run at\", now());\n      run_inline_js();\n    });\n  }\n}(window));"
     },
     "metadata": {},
     "output_type": "display_data"
    }
   ],
   "source": [
    "import matplotlib\n",
    "import numpy as np\n",
    "import pandas as pd\n",
    "import random\n",
    "from ipywidgets import widgets\n",
    "from bokeh.io import output_notebook, push_notebook\n",
    "from bokeh.plotting import figure, ColumnDataSource, show, gridplot\n",
    "from bokeh.models import CustomJS,Select\n",
    "\n",
    "output_notebook()\n",
    "\n",
    "def random_coordinates(n):\n",
    "    \"\"\"\n",
    "    Initialize random x and y coordinates between 0 and 1\n",
    "    \n",
    "    Arguments:\n",
    "        n(int): number of coordinates\n",
    "    Returns:\n",
    "        pandas Dataframe containing x and y coordinates\n",
    "    \"\"\"\n",
    "    x = [random.random() for i in range(n)]\n",
    "    y = [random.random() for i in range(n)]\n",
    "    return pd.DataFrame(list(zip(x,y)), columns = ['x','y'])"
   ]
  },
  {
   "cell_type": "markdown",
   "metadata": {},
   "source": [
    "## Estimating the Value of &pi;\n",
    "\n",
    "One method to estimate the value of &pi; is by using a Monte Carlo method. The method can be desribed with the following: Draw a square and a quarter circle in a canvas. Then generate a large number of random points within the square and observe how many fall in the quarter circle."
   ]
  },
  {
   "cell_type": "code",
   "execution_count": 2,
   "metadata": {
    "ExecuteTime": {
     "end_time": "2021-04-25T04:40:50.982553Z",
     "start_time": "2021-04-25T04:40:50.835753Z"
    },
    "scrolled": false
   },
   "outputs": [
    {
     "data": {
      "text/html": [
       "\n",
       "\n",
       "\n",
       "\n",
       "\n",
       "\n",
       "  <div class=\"bk-root\" id=\"30bf2a0b-3814-4c31-8386-f6dc12590972\" data-root-id=\"1003\"></div>\n"
      ]
     },
     "metadata": {},
     "output_type": "display_data"
    },
    {
     "data": {
      "application/javascript": [
       "(function(root) {\n",
       "  function embed_document(root) {\n",
       "    \n",
       "  var docs_json = {\"0a9fbb0d-3f14-4890-b202-1b3ca0376602\":{\"defs\":[],\"roots\":{\"references\":[{\"attributes\":{\"below\":[{\"id\":\"1012\"}],\"center\":[{\"id\":\"1015\"},{\"id\":\"1019\"}],\"height\":400,\"left\":[{\"id\":\"1016\"}],\"match_aspect\":true,\"renderers\":[{\"id\":\"1037\"},{\"id\":\"1043\"}],\"title\":{\"id\":\"1046\"},\"toolbar\":{\"id\":\"1027\"},\"width\":400,\"x_range\":{\"id\":\"1004\"},\"x_scale\":{\"id\":\"1008\"},\"y_range\":{\"id\":\"1006\"},\"y_scale\":{\"id\":\"1010\"}},\"id\":\"1003\",\"subtype\":\"Figure\",\"type\":\"Plot\"},{\"attributes\":{\"overlay\":{\"id\":\"1026\"}},\"id\":\"1022\",\"type\":\"BoxZoomTool\"},{\"attributes\":{\"source\":{\"id\":\"1039\"}},\"id\":\"1044\",\"type\":\"CDSView\"},{\"attributes\":{\"data_source\":{\"id\":\"1039\"},\"glyph\":{\"id\":\"1041\"},\"hover_glyph\":null,\"muted_glyph\":null,\"nonselection_glyph\":{\"id\":\"1042\"},\"view\":{\"id\":\"1044\"}},\"id\":\"1043\",\"type\":\"GlyphRenderer\"},{\"attributes\":{},\"id\":\"1013\",\"type\":\"BasicTicker\"},{\"attributes\":{\"source\":{\"id\":\"1034\"}},\"id\":\"1038\",\"type\":\"CDSView\"},{\"attributes\":{\"axis\":{\"id\":\"1016\"},\"dimension\":1,\"ticker\":null},\"id\":\"1019\",\"type\":\"Grid\"},{\"attributes\":{\"fill_alpha\":{\"value\":0.1},\"fill_color\":{\"value\":\"SkyBlue\"},\"line_alpha\":{\"value\":0.1},\"line_color\":{\"value\":\"SkyBlue\"},\"size\":{\"value\":3},\"x\":{\"field\":\"x\"},\"y\":{\"field\":\"y\"}},\"id\":\"1042\",\"type\":\"Circle\"},{\"attributes\":{\"data\":{\"index\":[0,1,2,3,4,5,6,7,8,9,10,11,12,13,14,15,16,17,18,19,20,21,22,23,24,25,26,27,28,29,30,31,32,33,34,35,36,37,38,39,40,41,42,43,44,45,46,47,48,49,50,51,52,53,54,55,56,57,58,59,60,61,62,63,64,65,66,67,68,69,70,71,72,73,74,75,76,77,78,79,80,81,82,83,84,85,86,87,88,89,90,91,92,93,94,95,96,97,98,99,100,101,102,103,104,105,106,107,108,109,110,111,112,113,114,115,116,117,118,119,120,121,122,123,124,125,126,127,128,129,130,131,132,133,134,135,136,137,138,139,140,141,142,143,144,145,146,147,148,149,150,151,152,153,154,155,156,157,158,159,160,161,162,163,164,165,166,167,168,169,170,171,172,173,174,175,176,177,178,179,180,181,182,183,184,185,186,187,188,189,190,191,192,193,194,195,196,197,198,199,200,201,202,203,204,205,206,207,208,209,210,211,212,213,214,215,216,217,218,219,220,221,222,223,224,225,226,227,228,229,230,231,232,233,234,235,236,237,238,239,240,241,242,243,244,245,246,247,248,249,250,251,252,253,254,255,256,257,258,259,260,261,262,263,264,265,266,267,268,269,270,271,272,273,274,275,276,277,278,279,280,281,282,283,284,285,286,287,288,289,290,291,292,293,294,295,296,297,298,299,300,301,302,303,304,305,306,307,308,309,310,311,312,313,314,315,316,317,318,319,320,321,322,323,324,325,326,327,328,329,330,331,332,333,334,335,336,337,338,339,340,341,342,343,344,345,346,347,348,349,350,351,352,353,354,355,356,357,358,359,360,361,362,363,364,365,366,367,368,369,370,371,372,373,374,375,376,377,378,379,380,381,382,383,384,385,386,387,388,389,390,391,392,393,394,395,396,397,398,399,400,401,402,403,404,405,406,407,408,409,410,411,412,413,414,415,416,417,418,419,420,421,422,423,424,425,426,427,428,429,430,431,432,433,434,435,436,437,438,439,440,441,442,443,444,445,446,447,448,449,450,451,452,453,454,455,456,457,458,459,460,461,462,463,464,465,466,467,468,469,470,471,472,473,474,475,476,477,478,479,480,481,482,483,484,485,486,487,488,489,490,491,492,493,494,495,496,497,498,499],\"x\":{\"__ndarray__\":\"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\",\"dtype\":\"float64\",\"order\":\"little\",\"shape\":[500]},\"y\":{\"__ndarray__\":\"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\",\"dtype\":\"float64\",\"order\":\"little\",\"shape\":[500]}},\"selected\":{\"id\":\"1055\"},\"selection_policy\":{\"id\":\"1056\"}},\"id\":\"1039\",\"type\":\"ColumnDataSource\"},{\"attributes\":{},\"id\":\"1024\",\"type\":\"ResetTool\"},{\"attributes\":{\"end_angle\":{\"value\":1.5707963267948966},\"fill_alpha\":{\"value\":0.8},\"fill_color\":{\"value\":\"PaleGreen\"},\"line_color\":{\"value\":\"PaleGreen\"},\"radius\":{\"value\":1},\"start_angle\":{\"value\":0},\"x\":{\"value\":0},\"y\":{\"value\":0}},\"id\":\"1035\",\"type\":\"Wedge\"},{\"attributes\":{},\"id\":\"1046\",\"type\":\"Title\"},{\"attributes\":{},\"id\":\"1023\",\"type\":\"SaveTool\"},{\"attributes\":{},\"id\":\"1025\",\"type\":\"HelpTool\"},{\"attributes\":{},\"id\":\"1053\",\"type\":\"Selection\"},{\"attributes\":{\"end_angle\":{\"value\":1.5707963267948966},\"fill_alpha\":{\"value\":0.1},\"fill_color\":{\"value\":\"PaleGreen\"},\"line_alpha\":{\"value\":0.1},\"line_color\":{\"value\":\"PaleGreen\"},\"radius\":{\"value\":1},\"start_angle\":{\"value\":0},\"x\":{\"value\":0},\"y\":{\"value\":0}},\"id\":\"1036\",\"type\":\"Wedge\"},{\"attributes\":{},\"id\":\"1017\",\"type\":\"BasicTicker\"},{\"attributes\":{\"bottom_units\":\"screen\",\"fill_alpha\":0.5,\"fill_color\":\"lightgrey\",\"left_units\":\"screen\",\"level\":\"overlay\",\"line_alpha\":1.0,\"line_color\":\"black\",\"line_dash\":[4,4],\"line_width\":2,\"right_units\":\"screen\",\"syncable\":false,\"top_units\":\"screen\"},\"id\":\"1026\",\"type\":\"BoxAnnotation\"},{\"attributes\":{},\"id\":\"1054\",\"type\":\"UnionRenderers\"},{\"attributes\":{},\"id\":\"1004\",\"type\":\"DataRange1d\"},{\"attributes\":{\"data\":{},\"selected\":{\"id\":\"1053\"},\"selection_policy\":{\"id\":\"1054\"}},\"id\":\"1034\",\"type\":\"ColumnDataSource\"},{\"attributes\":{},\"id\":\"1010\",\"type\":\"LinearScale\"},{\"attributes\":{},\"id\":\"1047\",\"type\":\"BasicTickFormatter\"},{\"attributes\":{\"axis\":{\"id\":\"1012\"},\"ticker\":null},\"id\":\"1015\",\"type\":\"Grid\"},{\"attributes\":{},\"id\":\"1048\",\"type\":\"AllLabels\"},{\"attributes\":{\"active_multi\":null,\"tools\":[{\"id\":\"1020\"},{\"id\":\"1021\"},{\"id\":\"1022\"},{\"id\":\"1023\"},{\"id\":\"1024\"},{\"id\":\"1025\"}]},\"id\":\"1027\",\"type\":\"Toolbar\"},{\"attributes\":{\"fill_color\":{\"value\":\"SkyBlue\"},\"line_color\":{\"value\":\"SkyBlue\"},\"size\":{\"value\":3},\"x\":{\"field\":\"x\"},\"y\":{\"field\":\"y\"}},\"id\":\"1041\",\"type\":\"Circle\"},{\"attributes\":{},\"id\":\"1021\",\"type\":\"WheelZoomTool\"},{\"attributes\":{},\"id\":\"1006\",\"type\":\"DataRange1d\"},{\"attributes\":{},\"id\":\"1050\",\"type\":\"BasicTickFormatter\"},{\"attributes\":{},\"id\":\"1020\",\"type\":\"PanTool\"},{\"attributes\":{},\"id\":\"1008\",\"type\":\"LinearScale\"},{\"attributes\":{},\"id\":\"1055\",\"type\":\"Selection\"},{\"attributes\":{},\"id\":\"1051\",\"type\":\"AllLabels\"},{\"attributes\":{},\"id\":\"1056\",\"type\":\"UnionRenderers\"},{\"attributes\":{\"data_source\":{\"id\":\"1034\"},\"glyph\":{\"id\":\"1035\"},\"hover_glyph\":null,\"muted_glyph\":null,\"nonselection_glyph\":{\"id\":\"1036\"},\"view\":{\"id\":\"1038\"}},\"id\":\"1037\",\"type\":\"GlyphRenderer\"},{\"attributes\":{\"formatter\":{\"id\":\"1047\"},\"major_label_policy\":{\"id\":\"1048\"},\"ticker\":{\"id\":\"1017\"}},\"id\":\"1016\",\"type\":\"LinearAxis\"},{\"attributes\":{\"formatter\":{\"id\":\"1050\"},\"major_label_policy\":{\"id\":\"1051\"},\"ticker\":{\"id\":\"1013\"}},\"id\":\"1012\",\"type\":\"LinearAxis\"}],\"root_ids\":[\"1003\"]},\"title\":\"Bokeh Application\",\"version\":\"2.3.1\"}};\n",
       "  var render_items = [{\"docid\":\"0a9fbb0d-3f14-4890-b202-1b3ca0376602\",\"root_ids\":[\"1003\"],\"roots\":{\"1003\":\"30bf2a0b-3814-4c31-8386-f6dc12590972\"}}];\n",
       "  root.Bokeh.embed.embed_items_notebook(docs_json, render_items);\n",
       "\n",
       "  }\n",
       "  if (root.Bokeh !== undefined) {\n",
       "    embed_document(root);\n",
       "  } else {\n",
       "    var attempts = 0;\n",
       "    var timer = setInterval(function(root) {\n",
       "      if (root.Bokeh !== undefined) {\n",
       "        clearInterval(timer);\n",
       "        embed_document(root);\n",
       "      } else {\n",
       "        attempts++;\n",
       "        if (attempts > 100) {\n",
       "          clearInterval(timer);\n",
       "          console.log(\"Bokeh: ERROR: Unable to run BokehJS code because BokehJS library is missing\");\n",
       "        }\n",
       "      }\n",
       "    }, 10, root)\n",
       "  }\n",
       "})(window);"
      ],
      "application/vnd.bokehjs_exec.v0+json": ""
     },
     "metadata": {
      "application/vnd.bokehjs_exec.v0+json": {
       "id": "1003"
      }
     },
     "output_type": "display_data"
    }
   ],
   "source": [
    "#figure 1\n",
    "df1 = random_coordinates(500)\n",
    "fig1 = figure(width=400, height=400,match_aspect = True)\n",
    "fig1.wedge(x=0,y=0,radius=1,start_angle = 0, end_angle = np.pi/2, color='PaleGreen',fill_alpha = 0.8)\n",
    "fig1.circle(x='x',y='y',size=3,source=ColumnDataSource(df1),color='SkyBlue')\n",
    "show(fig1)"
   ]
  },
  {
   "cell_type": "markdown",
   "metadata": {},
   "source": [
    "- The area of the quater circle is $1/4\\pi r^{2}$\n",
    "\n",
    "- The area of the square is $r^{2}$\n",
    "\n",
    "- The ratio between the area of the quarter circle and square is $1/4\\pi$\n",
    "\n",
    "- The same ratio shall apply between the number of points within the square (the total number of points)  and the number of points within the quarter circle. Therefore, $\\pi$ can be estimated through the following equation:\n",
    "\n",
    " &emsp; $\\pi \\approx 4 \\times$ (# of points within the circle / total # of points)\n",
    "\n",
    "<br>\n",
    "<br>\n",
    "<br>\n",
    "We are now able to estimate the value of &pi;:"
   ]
  },
  {
   "cell_type": "code",
   "execution_count": 3,
   "metadata": {
    "ExecuteTime": {
     "end_time": "2021-04-25T04:40:51.024200Z",
     "start_time": "2021-04-25T04:40:50.985948Z"
    },
    "scrolled": true
   },
   "outputs": [
    {
     "name": "stdout",
     "output_type": "stream",
     "text": [
      "Pi estimation using 10000 points:  3.14360\n"
     ]
    }
   ],
   "source": [
    "# Calculate Pi\n",
    "def estimate_pi(data):\n",
    "    n = data.shape[0]\n",
    "    coordinates = np.asarray(data)\n",
    "    count = 0\n",
    "    for i in range(n):\n",
    "        x = coordinates[i][0]\n",
    "        y = coordinates[i][1]\n",
    "        if(x*x+y*y < 1):\n",
    "            count += 1\n",
    "    return (count/n)*4\n",
    "\n",
    "print('Pi estimation using 10000 points: ',\"{:.5f}\".format(estimate_pi(random_coordinates(10000))))"
   ]
  },
  {
   "cell_type": "markdown",
   "metadata": {},
   "source": [
    "Lets now plot the points and see how the total number of points affect the estimation:"
   ]
  },
  {
   "cell_type": "code",
   "execution_count": 4,
   "metadata": {
    "ExecuteTime": {
     "end_time": "2021-04-25T04:40:51.168590Z",
     "start_time": "2021-04-25T04:40:51.026611Z"
    },
    "scrolled": false
   },
   "outputs": [
    {
     "data": {
      "text/html": [
       "\n",
       "\n",
       "\n",
       "\n",
       "\n",
       "\n",
       "  <div class=\"bk-root\" id=\"8799efeb-7d15-43b3-8139-96fe55356d39\" data-root-id=\"1124\"></div>\n"
      ]
     },
     "metadata": {},
     "output_type": "display_data"
    },
    {
     "data": {
      "application/javascript": [
       "(function(root) {\n",
       "  function embed_document(root) {\n",
       "    \n",
       "  var docs_json = {\"9aba2089-ed3c-4ed9-b831-fc46b7f00dcb\":{\"defs\":[],\"roots\":{\"references\":[{\"attributes\":{\"below\":[{\"id\":\"1133\"}],\"center\":[{\"id\":\"1136\"},{\"id\":\"1140\"}],\"height\":400,\"left\":[{\"id\":\"1137\"}],\"match_aspect\":true,\"renderers\":[{\"id\":\"1158\"},{\"id\":\"1163\"}],\"title\":{\"id\":\"1179\"},\"toolbar\":{\"id\":\"1148\"},\"width\":400,\"x_range\":{\"id\":\"1125\"},\"x_scale\":{\"id\":\"1129\"},\"y_range\":{\"id\":\"1127\"},\"y_scale\":{\"id\":\"1131\"}},\"id\":\"1124\",\"subtype\":\"Figure\",\"type\":\"Plot\"},{\"attributes\":{},\"id\":\"1131\",\"type\":\"LinearScale\"},{\"attributes\":{\"active_multi\":null,\"tools\":[{\"id\":\"1141\"},{\"id\":\"1142\"},{\"id\":\"1143\"},{\"id\":\"1144\"},{\"id\":\"1145\"},{\"id\":\"1146\"}]},\"id\":\"1148\",\"type\":\"Toolbar\"},{\"attributes\":{},\"id\":\"1188\",\"type\":\"Selection\"},{\"attributes\":{\"bottom_units\":\"screen\",\"fill_alpha\":0.5,\"fill_color\":\"lightgrey\",\"left_units\":\"screen\",\"level\":\"overlay\",\"line_alpha\":1.0,\"line_color\":\"black\",\"line_dash\":[4,4],\"line_width\":2,\"right_units\":\"screen\",\"syncable\":false,\"top_units\":\"screen\"},\"id\":\"1147\",\"type\":\"BoxAnnotation\"},{\"attributes\":{},\"id\":\"1129\",\"type\":\"LinearScale\"},{\"attributes\":{\"data\":{},\"selected\":{\"id\":\"1186\"},\"selection_policy\":{\"id\":\"1187\"}},\"id\":\"1155\",\"type\":\"ColumnDataSource\"},{\"attributes\":{},\"id\":\"1183\",\"type\":\"BasicTickFormatter\"},{\"attributes\":{},\"id\":\"1189\",\"type\":\"UnionRenderers\"},{\"attributes\":{},\"id\":\"1180\",\"type\":\"BasicTickFormatter\"},{\"attributes\":{},\"id\":\"1184\",\"type\":\"AllLabels\"},{\"attributes\":{\"fill_alpha\":{\"value\":0.1},\"fill_color\":{\"value\":\"SkyBlue\"},\"line_alpha\":{\"value\":0.1},\"line_color\":{\"value\":\"SkyBlue\"},\"size\":{\"value\":3},\"x\":{\"field\":\"x\"},\"y\":{\"field\":\"y\"}},\"id\":\"1162\",\"type\":\"Circle\"},{\"attributes\":{\"source\":{\"id\":\"1155\"}},\"id\":\"1159\",\"type\":\"CDSView\"},{\"attributes\":{},\"id\":\"1141\",\"type\":\"PanTool\"},{\"attributes\":{\"formatter\":{\"id\":\"1183\"},\"major_label_policy\":{\"id\":\"1184\"},\"ticker\":{\"id\":\"1134\"}},\"id\":\"1133\",\"type\":\"LinearAxis\"},{\"attributes\":{},\"id\":\"1134\",\"type\":\"BasicTicker\"},{\"attributes\":{\"data\":{\"index\":[0,1,2,3,4,5,6,7,8,9,10,11,12,13,14,15,16,17,18,19,20,21,22,23,24,25,26,27,28,29,30,31,32,33,34,35,36,37,38,39,40,41,42,43,44,45,46,47,48,49,50,51,52,53,54,55,56,57,58,59,60,61,62,63,64,65,66,67,68,69,70,71,72,73,74,75,76,77,78,79,80,81,82,83,84,85,86,87,88,89,90,91,92,93,94,95,96,97,98,99,100,101,102,103,104,105,106,107,108,109,110,111,112,113,114,115,116,117,118,119,120,121,122,123,124,125,126,127,128,129,130,131,132,133,134,135,136,137,138,139,140,141,142,143,144,145,146,147,148,149,150,151,152,153,154,155,156,157,158,159,160,161,162,163,164,165,166,167,168,169,170,171,172,173,174,175,176,177,178,179,180,181,182,183,184,185,186,187,188,189,190,191,192,193,194,195,196,197,198,199,200,201,202,203,204,205,206,207,208,209,210,211,212,213,214,215,216,217,218,219,220,221,222,223,224,225,226,227,228,229,230,231,232,233,234,235,236,237,238,239,240,241,242,243,244,245,246,247,248,249,250,251,252,253,254,255,256,257,258,259,260,261,262,263,264,265,266,267,268,269,270,271,272,273,274,275,276,277,278,279,280,281,282,283,284,285,286,287,288,289,290,291,292,293,294,295,296,297,298,299,300,301,302,303,304,305,306,307,308,309,310,311,312,313,314,315,316,317,318,319,320,321,322,323,324,325,326,327,328,329,330,331,332,333,334,335,336,337,338,339,340,341,342,343,344,345,346,347,348,349,350,351,352,353,354,355,356,357,358,359,360,361,362,363,364,365,366,367,368,369,370,371,372,373,374,375,376,377,378,379,380,381,382,383,384,385,386,387,388,389,390,391,392,393,394,395,396,397,398,399,400,401,402,403,404,405,406,407,408,409,410,411,412,413,414,415,416,417,418,419,420,421,422,423,424,425,426,427,428,429,430,431,432,433,434,435,436,437,438,439,440,441,442,443,444,445,446,447,448,449,450,451,452,453,454,455,456,457,458,459,460,461,462,463,464,465,466,467,468,469,470,471,472,473,474,475,476,477,478,479,480,481,482,483,484,485,486,487,488,489,490,491,492,493,494,495,496,497,498,499],\"x\":{\"__ndarray__\":\"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\",\"dtype\":\"float64\",\"order\":\"little\",\"shape\":[500]},\"y\":{\"__ndarray__\":\"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\",\"dtype\":\"float64\",\"order\":\"little\",\"shape\":[500]}},\"selected\":{\"id\":\"1188\"},\"selection_policy\":{\"id\":\"1189\"}},\"id\":\"1123\",\"type\":\"ColumnDataSource\"},{\"attributes\":{},\"id\":\"1142\",\"type\":\"WheelZoomTool\"},{\"attributes\":{\"data_source\":{\"id\":\"1155\"},\"glyph\":{\"id\":\"1156\"},\"hover_glyph\":null,\"muted_glyph\":null,\"nonselection_glyph\":{\"id\":\"1157\"},\"view\":{\"id\":\"1159\"}},\"id\":\"1158\",\"type\":\"GlyphRenderer\"},{\"attributes\":{},\"id\":\"1144\",\"type\":\"SaveTool\"},{\"attributes\":{\"overlay\":{\"id\":\"1147\"}},\"id\":\"1143\",\"type\":\"BoxZoomTool\"},{\"attributes\":{},\"id\":\"1181\",\"type\":\"AllLabels\"},{\"attributes\":{},\"id\":\"1145\",\"type\":\"ResetTool\"},{\"attributes\":{\"fill_color\":{\"value\":\"SkyBlue\"},\"line_color\":{\"value\":\"SkyBlue\"},\"size\":{\"value\":3},\"x\":{\"field\":\"x\"},\"y\":{\"field\":\"y\"}},\"id\":\"1161\",\"type\":\"Circle\"},{\"attributes\":{\"source\":{\"id\":\"1123\"}},\"id\":\"1164\",\"type\":\"CDSView\"},{\"attributes\":{},\"id\":\"1186\",\"type\":\"Selection\"},{\"attributes\":{},\"id\":\"1146\",\"type\":\"HelpTool\"},{\"attributes\":{\"end_angle\":{\"value\":1.5707963267948966},\"fill_alpha\":{\"value\":0.1},\"fill_color\":{\"value\":\"PaleGreen\"},\"line_alpha\":{\"value\":0.1},\"line_color\":{\"value\":\"PaleGreen\"},\"radius\":{\"value\":1},\"start_angle\":{\"value\":0},\"x\":{\"value\":0},\"y\":{\"value\":0}},\"id\":\"1157\",\"type\":\"Wedge\"},{\"attributes\":{},\"id\":\"1127\",\"type\":\"DataRange1d\"},{\"attributes\":{},\"id\":\"1187\",\"type\":\"UnionRenderers\"},{\"attributes\":{\"axis\":{\"id\":\"1133\"},\"ticker\":null},\"id\":\"1136\",\"type\":\"Grid\"},{\"attributes\":{},\"id\":\"1125\",\"type\":\"DataRange1d\"},{\"attributes\":{\"end_angle\":{\"value\":1.5707963267948966},\"fill_alpha\":{\"value\":0.8},\"fill_color\":{\"value\":\"PaleGreen\"},\"line_color\":{\"value\":\"PaleGreen\"},\"radius\":{\"value\":1},\"start_angle\":{\"value\":0},\"x\":{\"value\":0},\"y\":{\"value\":0}},\"id\":\"1156\",\"type\":\"Wedge\"},{\"attributes\":{\"axis\":{\"id\":\"1137\"},\"dimension\":1,\"ticker\":null},\"id\":\"1140\",\"type\":\"Grid\"},{\"attributes\":{\"formatter\":{\"id\":\"1180\"},\"major_label_policy\":{\"id\":\"1181\"},\"ticker\":{\"id\":\"1138\"}},\"id\":\"1137\",\"type\":\"LinearAxis\"},{\"attributes\":{},\"id\":\"1138\",\"type\":\"BasicTicker\"},{\"attributes\":{\"data_source\":{\"id\":\"1123\"},\"glyph\":{\"id\":\"1161\"},\"hover_glyph\":null,\"muted_glyph\":null,\"nonselection_glyph\":{\"id\":\"1162\"},\"view\":{\"id\":\"1164\"}},\"id\":\"1163\",\"type\":\"GlyphRenderer\"},{\"attributes\":{},\"id\":\"1179\",\"type\":\"Title\"}],\"root_ids\":[\"1124\"]},\"title\":\"Bokeh Application\",\"version\":\"2.3.1\"}};\n",
       "  var render_items = [{\"docid\":\"9aba2089-ed3c-4ed9-b831-fc46b7f00dcb\",\"notebook_comms_target\":\"1191\",\"root_ids\":[\"1124\"],\"roots\":{\"1124\":\"8799efeb-7d15-43b3-8139-96fe55356d39\"}}];\n",
       "  root.Bokeh.embed.embed_items_notebook(docs_json, render_items);\n",
       "\n",
       "  }\n",
       "  if (root.Bokeh !== undefined) {\n",
       "    embed_document(root);\n",
       "  } else {\n",
       "    var attempts = 0;\n",
       "    var timer = setInterval(function(root) {\n",
       "      if (root.Bokeh !== undefined) {\n",
       "        clearInterval(timer);\n",
       "        embed_document(root);\n",
       "      } else {\n",
       "        attempts++;\n",
       "        if (attempts > 100) {\n",
       "          clearInterval(timer);\n",
       "          console.log(\"Bokeh: ERROR: Unable to run BokehJS code because BokehJS library is missing\");\n",
       "        }\n",
       "      }\n",
       "    }, 10, root)\n",
       "  }\n",
       "})(window);"
      ],
      "application/vnd.bokehjs_exec.v0+json": ""
     },
     "metadata": {
      "application/vnd.bokehjs_exec.v0+json": {
       "id": "1124"
      }
     },
     "output_type": "display_data"
    },
    {
     "data": {
      "application/vnd.jupyter.widget-view+json": {
       "model_id": "1c734c36369240cc908fbadd3ae4fc32",
       "version_major": 2,
       "version_minor": 0
      },
      "text/plain": [
       "IntSlider(value=500, description='# of Random Points(n)', max=5000, min=500, step=500)"
      ]
     },
     "metadata": {},
     "output_type": "display_data"
    },
    {
     "name": "stdout",
     "output_type": "stream",
     "text": [
      "Pi Estimation:  3.18400"
     ]
    }
   ],
   "source": [
    "#figure2\n",
    "n = 500\n",
    "df2 = random_coordinates(n)\n",
    "source2 = ColumnDataSource(df2)\n",
    "fig2 = figure(width=400, height=400,match_aspect = True)\n",
    "fig2.wedge(x=0,y=0,radius=1,start_angle = 0, end_angle = np.pi/2, color='PaleGreen',fill_alpha = 0.8)\n",
    "fig2.circle(x='x',y='y',size=3,source=source2,color='SkyBlue')\n",
    "handle1 = show(fig2, notebook_handle=True)\n",
    "n_slider = widgets.IntSlider(\n",
    "    description=\"# of Random Points(n)\",\n",
    "    min=500,\n",
    "    max=5000,\n",
    "    value=500,\n",
    "    step=500,\n",
    ")\n",
    "\n",
    "def n_change_handler(change):\n",
    "    n = change.new\n",
    "    new_data = random_coordinates(n)\n",
    "    source2 = ColumnDataSource(new_data)\n",
    "    #clear renderers\n",
    "    fig2.renderers = [fig2.renderers[0]]\n",
    "    #add new renderer\n",
    "    fig2.circle(x='x',y='y',size=3,source=source2,color='SkyBlue')\n",
    "    push_notebook(handle=handle1)\n",
    "    print('\\rPi Estimation: ',\"{:.5f}\".format(estimate_pi(new_data)),end='')\n",
    "\n",
    "n_slider.observe(n_change_handler, names='value')\n",
    "display(n_slider)"
   ]
  },
  {
   "cell_type": "markdown",
   "metadata": {},
   "source": [
    "To visualize how the total number of random points affect the value of pi estimation, lets plot these two values(this can take a few seconds):"
   ]
  },
  {
   "cell_type": "code",
   "execution_count": 5,
   "metadata": {
    "ExecuteTime": {
     "end_time": "2021-04-25T04:40:54.390554Z",
     "start_time": "2021-04-25T04:40:51.172763Z"
    },
    "scrolled": true
   },
   "outputs": [
    {
     "data": {
      "text/html": [
       "\n",
       "\n",
       "\n",
       "\n",
       "\n",
       "\n",
       "  <div class=\"bk-root\" id=\"b01223f7-b25e-44df-9c9e-25a0dd05df15\" data-root-id=\"1257\"></div>\n"
      ]
     },
     "metadata": {},
     "output_type": "display_data"
    },
    {
     "data": {
      "application/javascript": [
       "(function(root) {\n",
       "  function embed_document(root) {\n",
       "    \n",
       "  var docs_json = {\"cdc6c7ea-4d4f-4855-be5e-4c1514f5cd6a\":{\"defs\":[],\"roots\":{\"references\":[{\"attributes\":{\"below\":[{\"id\":\"1266\"}],\"center\":[{\"id\":\"1269\"},{\"id\":\"1273\"},{\"id\":\"1304\"}],\"height\":300,\"left\":[{\"id\":\"1270\"}],\"match_aspect\":true,\"renderers\":[{\"id\":\"1291\"},{\"id\":\"1309\"}],\"title\":{\"id\":\"1294\"},\"toolbar\":{\"id\":\"1281\"},\"x_range\":{\"id\":\"1258\"},\"x_scale\":{\"id\":\"1262\"},\"y_range\":{\"id\":\"1260\"},\"y_scale\":{\"id\":\"1264\"}},\"id\":\"1257\",\"subtype\":\"Figure\",\"type\":\"Plot\"},{\"attributes\":{\"data\":{\"x\":{\"__ndarray__\":\"AAAAAABAj0AAAAAAAECfQAAAAAAAcKdAAAAAAABAr0AAAAAAAIizQAAAAAAAcLdAAAAAAABYu0AAAAAAAEC/QAAAAAAAlMFAAAAAAACIw0AAAAAAAHzFQAAAAAAAcMdAAAAAAABkyUAAAAAAAFjLQAAAAAAATM1AAAAAAABAz0AAAAAAAJrQQAAAAAAAlNFAAAAAAACO0kAAAAAAAIjTQAAAAAAAgtRAAAAAAAB81UAAAAAAAHbWQAAAAAAAcNdAAAAAAABq2EAAAAAAAGTZQAAAAAAAXtpAAAAAAABY20AAAAAAAFLcQAAAAAAATN1AAAAAAABG3kAAAAAAAEDfQAAAAAAAHeBAAAAAAACa4EAAAAAAABfhQAAAAAAAlOFAAAAAAAAR4kAAAAAAAI7iQAAAAAAAC+NAAAAAAACI40AAAAAAAAXkQAAAAAAAguRAAAAAAAD/5EAAAAAAAHzlQAAAAAAA+eVAAAAAAAB25kAAAAAAAPPmQAAAAAAAcOdAAAAAAADt50AAAAAAAGroQA==\",\"dtype\":\"float64\",\"order\":\"little\",\"shape\":[50]},\"y\":{\"__ndarray__\":\"yXa+nxovCUCiRbbz/dQIQHNoke18PwlA/Knx0k1iCUDNzMzMzMwIQJzEILByaAlAoBov3SQGCUAZBFYOLTIJQLPD1OX2BwlAEqW9wRcmCUCLC36FrSQJQK2OCR7MEwlA/6OHWzNKCUAIaQvLXjQJQM3x93gOUglAVg4tsp3vCEC6Xc4LFu0IQOJZ0UjANwlAJEc0jQ4/CUAFxY8xdy0JQGfcLDSp+QhAIU8J8pQgCUCRkpbfgzUJQGjYFSD3GglAQ8U4fxMKCUDxSJlrXUcJQL4X6THyKQlA1bv6tTYPCUDwe5068goJQPdQtfDPHwlArYICXlsTCUBg5dAi2xkJQBzNw9E8HAlAvwboYnclCUBLQ859dgEJQMA3ryaeFQlAipqYi8YtCUBKMMAvE0IJQAEVUAEVUAlA54wo7Q0+CUC6ss5eHiAJQF79WpsHMglAYN49E5QlCUA4rH3D2jcJQDADCkSxUQlA56DDkSElCUCZhK+spygJQHnpJjEILAlAz1YPteQgCUBvgQTFjzEJQA==\",\"dtype\":\"float64\",\"order\":\"little\",\"shape\":[50]}},\"selected\":{\"id\":\"1301\"},\"selection_policy\":{\"id\":\"1302\"}},\"id\":\"1288\",\"type\":\"ColumnDataSource\"},{\"attributes\":{},\"id\":\"1262\",\"type\":\"LinearScale\"},{\"attributes\":{},\"id\":\"1267\",\"type\":\"BasicTicker\"},{\"attributes\":{},\"id\":\"1298\",\"type\":\"BasicTickFormatter\"},{\"attributes\":{\"end\":3.2,\"start\":3.1},\"id\":\"1260\",\"type\":\"Range1d\"},{\"attributes\":{\"line_color\":\"PaleGreen\",\"line_width\":3,\"x\":{\"field\":\"x\"},\"y\":{\"value\":3.141592653589793}},\"id\":\"1307\",\"type\":\"Line\"},{\"attributes\":{\"line_alpha\":0.1,\"line_color\":\"PaleGreen\",\"line_width\":3,\"x\":{\"field\":\"x\"},\"y\":{\"value\":3.141592653589793}},\"id\":\"1308\",\"type\":\"Line\"},{\"attributes\":{\"formatter\":{\"id\":\"1298\"},\"major_label_policy\":{\"id\":\"1299\"},\"ticker\":{\"id\":\"1267\"}},\"id\":\"1266\",\"type\":\"LinearAxis\"},{\"attributes\":{\"data\":{\"x\":[0,50000]},\"selected\":{\"id\":\"1321\"},\"selection_policy\":{\"id\":\"1322\"}},\"id\":\"1306\",\"type\":\"ColumnDataSource\"},{\"attributes\":{},\"id\":\"1279\",\"type\":\"HelpTool\"},{\"attributes\":{},\"id\":\"1301\",\"type\":\"Selection\"},{\"attributes\":{},\"id\":\"1302\",\"type\":\"UnionRenderers\"},{\"attributes\":{},\"id\":\"1295\",\"type\":\"BasicTickFormatter\"},{\"attributes\":{\"overlay\":{\"id\":\"1280\"}},\"id\":\"1276\",\"type\":\"BoxZoomTool\"},{\"attributes\":{},\"id\":\"1296\",\"type\":\"AllLabels\"},{\"attributes\":{\"end\":50000},\"id\":\"1258\",\"type\":\"Range1d\"},{\"attributes\":{\"fill_color\":{\"value\":\"SkyBlue\"},\"line_color\":{\"value\":\"SkyBlue\"},\"size\":{\"value\":5},\"x\":{\"field\":\"x\"},\"y\":{\"field\":\"y\"}},\"id\":\"1289\",\"type\":\"Circle\"},{\"attributes\":{\"data_source\":{\"id\":\"1306\"},\"glyph\":{\"id\":\"1307\"},\"hover_glyph\":null,\"muted_glyph\":null,\"nonselection_glyph\":{\"id\":\"1308\"},\"view\":{\"id\":\"1310\"}},\"id\":\"1309\",\"type\":\"GlyphRenderer\"},{\"attributes\":{},\"id\":\"1271\",\"type\":\"BasicTicker\"},{\"attributes\":{\"label\":{\"value\":\"\\u03c0 estimations\"},\"renderers\":[{\"id\":\"1291\"}]},\"id\":\"1305\",\"type\":\"LegendItem\"},{\"attributes\":{\"axis\":{\"id\":\"1266\"},\"ticker\":null},\"id\":\"1269\",\"type\":\"Grid\"},{\"attributes\":{\"data_source\":{\"id\":\"1288\"},\"glyph\":{\"id\":\"1289\"},\"hover_glyph\":null,\"muted_glyph\":null,\"nonselection_glyph\":{\"id\":\"1290\"},\"view\":{\"id\":\"1292\"}},\"id\":\"1291\",\"type\":\"GlyphRenderer\"},{\"attributes\":{},\"id\":\"1275\",\"type\":\"WheelZoomTool\"},{\"attributes\":{},\"id\":\"1277\",\"type\":\"SaveTool\"},{\"attributes\":{},\"id\":\"1299\",\"type\":\"AllLabels\"},{\"attributes\":{},\"id\":\"1274\",\"type\":\"PanTool\"},{\"attributes\":{},\"id\":\"1322\",\"type\":\"UnionRenderers\"},{\"attributes\":{\"source\":{\"id\":\"1288\"}},\"id\":\"1292\",\"type\":\"CDSView\"},{\"attributes\":{\"items\":[{\"id\":\"1305\"},{\"id\":\"1324\"}]},\"id\":\"1304\",\"type\":\"Legend\"},{\"attributes\":{\"label\":{\"value\":\"\\u03c0\"},\"renderers\":[{\"id\":\"1309\"}]},\"id\":\"1324\",\"type\":\"LegendItem\"},{\"attributes\":{},\"id\":\"1278\",\"type\":\"ResetTool\"},{\"attributes\":{},\"id\":\"1321\",\"type\":\"Selection\"},{\"attributes\":{\"bottom_units\":\"screen\",\"fill_alpha\":0.5,\"fill_color\":\"lightgrey\",\"left_units\":\"screen\",\"level\":\"overlay\",\"line_alpha\":1.0,\"line_color\":\"black\",\"line_dash\":[4,4],\"line_width\":2,\"right_units\":\"screen\",\"syncable\":false,\"top_units\":\"screen\"},\"id\":\"1280\",\"type\":\"BoxAnnotation\"},{\"attributes\":{\"fill_alpha\":{\"value\":0.1},\"fill_color\":{\"value\":\"SkyBlue\"},\"line_alpha\":{\"value\":0.1},\"line_color\":{\"value\":\"SkyBlue\"},\"size\":{\"value\":5},\"x\":{\"field\":\"x\"},\"y\":{\"field\":\"y\"}},\"id\":\"1290\",\"type\":\"Circle\"},{\"attributes\":{\"active_multi\":null,\"tools\":[{\"id\":\"1274\"},{\"id\":\"1275\"},{\"id\":\"1276\"},{\"id\":\"1277\"},{\"id\":\"1278\"},{\"id\":\"1279\"}]},\"id\":\"1281\",\"type\":\"Toolbar\"},{\"attributes\":{\"axis\":{\"id\":\"1270\"},\"dimension\":1,\"ticker\":null},\"id\":\"1273\",\"type\":\"Grid\"},{\"attributes\":{\"formatter\":{\"id\":\"1295\"},\"major_label_policy\":{\"id\":\"1296\"},\"ticker\":{\"id\":\"1271\"}},\"id\":\"1270\",\"type\":\"LinearAxis\"},{\"attributes\":{},\"id\":\"1294\",\"type\":\"Title\"},{\"attributes\":{},\"id\":\"1264\",\"type\":\"LinearScale\"},{\"attributes\":{\"source\":{\"id\":\"1306\"}},\"id\":\"1310\",\"type\":\"CDSView\"}],\"root_ids\":[\"1257\"]},\"title\":\"Bokeh Application\",\"version\":\"2.3.1\"}};\n",
       "  var render_items = [{\"docid\":\"cdc6c7ea-4d4f-4855-be5e-4c1514f5cd6a\",\"root_ids\":[\"1257\"],\"roots\":{\"1257\":\"b01223f7-b25e-44df-9c9e-25a0dd05df15\"}}];\n",
       "  root.Bokeh.embed.embed_items_notebook(docs_json, render_items);\n",
       "\n",
       "  }\n",
       "  if (root.Bokeh !== undefined) {\n",
       "    embed_document(root);\n",
       "  } else {\n",
       "    var attempts = 0;\n",
       "    var timer = setInterval(function(root) {\n",
       "      if (root.Bokeh !== undefined) {\n",
       "        clearInterval(timer);\n",
       "        embed_document(root);\n",
       "      } else {\n",
       "        attempts++;\n",
       "        if (attempts > 100) {\n",
       "          clearInterval(timer);\n",
       "          console.log(\"Bokeh: ERROR: Unable to run BokehJS code because BokehJS library is missing\");\n",
       "        }\n",
       "      }\n",
       "    }, 10, root)\n",
       "  }\n",
       "})(window);"
      ],
      "application/vnd.bokehjs_exec.v0+json": ""
     },
     "metadata": {
      "application/vnd.bokehjs_exec.v0+json": {
       "id": "1257"
      }
     },
     "output_type": "display_data"
    }
   ],
   "source": [
    "#figure 3\n",
    "n_points = [1000*(i+1) for i in range(50)]\n",
    "pi_estimations = np.empty(shape=(len(n_points),2))\n",
    "for i in range(len(n_points)):\n",
    "    num = n_points[i]\n",
    "    pi_estimations[i] = [num,estimate_pi(random_coordinates(num))]\n",
    "\n",
    "fig3 = figure(width=600,height=300,x_range=(0,50000),y_range=(3.1,3.2),match_aspect=True)\n",
    "fig3.circle(x=pi_estimations[:,0], y=pi_estimations[:,1] ,color='SkyBlue',size=5,legend_label='\\u03C0 estimations')\n",
    "fig3.line([0,n_points[-1]],np.pi,legend_label='\\u03C0',color='PaleGreen',width=3)\n",
    "show(fig3)"
   ]
  },
  {
   "cell_type": "markdown",
   "metadata": {},
   "source": [
    "As more points are being used for the process, the estimations is getting closer to the actual value of &pi;\n",
    "\n",
    "<br>\n",
    "However, we only performed one trial for a specific number of random points. One way to optimize our answer will be taking the mean of multiple trials:"
   ]
  },
  {
   "cell_type": "code",
   "execution_count": 6,
   "metadata": {
    "ExecuteTime": {
     "end_time": "2021-04-25T04:40:56.723791Z",
     "start_time": "2021-04-25T04:40:54.392592Z"
    }
   },
   "outputs": [
    {
     "name": "stdout",
     "output_type": "stream",
     "text": [
      "Pi estimation using 10000 points with 100 trials:  3.14044\n"
     ]
    }
   ],
   "source": [
    "estimations = 0\n",
    "for i in range(100):\n",
    "    estimations += estimate_pi(random_coordinates(10000))\n",
    "estimations /= 100\n",
    "print('Pi estimation using 10000 points with 100 trials: ',\"{:.5f}\".format(estimations))"
   ]
  },
  {
   "cell_type": "markdown",
   "metadata": {},
   "source": [
    "## Estimating Integrals\n",
    "\n",
    "One of the most famous applications of Monte Carlo Method is estimating an integral. \n",
    "\n",
    "### First approach\n",
    "The process can be very similar to what we did for estimating &pi;.\n",
    "\n",
    "We generate a large number of random points within the square and count how many points is in the area of the curve that we are estimating:\n",
    "\n",
    "- The curve y = x is used in the demo for simplicity. "
   ]
  },
  {
   "cell_type": "code",
   "execution_count": 7,
   "metadata": {
    "ExecuteTime": {
     "end_time": "2021-04-25T04:40:56.893275Z",
     "start_time": "2021-04-25T04:40:56.726848Z"
    },
    "scrolled": false
   },
   "outputs": [
    {
     "data": {
      "text/html": [
       "\n",
       "\n",
       "\n",
       "\n",
       "\n",
       "\n",
       "  <div class=\"bk-root\" id=\"f08864f3-20ac-4c29-8c8b-9c1b8756bc1a\" data-root-id=\"1430\"></div>\n"
      ]
     },
     "metadata": {},
     "output_type": "display_data"
    },
    {
     "data": {
      "application/javascript": [
       "(function(root) {\n",
       "  function embed_document(root) {\n",
       "    \n",
       "  var docs_json = {\"17f57c53-2aac-4968-82f6-bb8d578913fa\":{\"defs\":[],\"roots\":{\"references\":[{\"attributes\":{\"below\":[{\"id\":\"1439\"}],\"center\":[{\"id\":\"1442\"},{\"id\":\"1446\"},{\"id\":\"1477\"}],\"height\":400,\"left\":[{\"id\":\"1443\"}],\"match_aspect\":true,\"renderers\":[{\"id\":\"1464\"},{\"id\":\"1482\"}],\"title\":{\"id\":\"1467\"},\"toolbar\":{\"id\":\"1454\"},\"width\":400,\"x_range\":{\"id\":\"1431\"},\"x_scale\":{\"id\":\"1435\"},\"y_range\":{\"id\":\"1433\"},\"y_scale\":{\"id\":\"1437\"}},\"id\":\"1430\",\"subtype\":\"Figure\",\"type\":\"Plot\"},{\"attributes\":{\"axis\":{\"id\":\"1443\"},\"dimension\":1,\"ticker\":null},\"id\":\"1446\",\"type\":\"Grid\"},{\"attributes\":{\"source\":{\"id\":\"1429\"}},\"id\":\"1483\",\"type\":\"CDSView\"},{\"attributes\":{\"formatter\":{\"id\":\"1468\"},\"major_label_policy\":{\"id\":\"1469\"},\"ticker\":{\"id\":\"1444\"}},\"id\":\"1443\",\"type\":\"LinearAxis\"},{\"attributes\":{},\"id\":\"1468\",\"type\":\"BasicTickFormatter\"},{\"attributes\":{},\"id\":\"1450\",\"type\":\"SaveTool\"},{\"attributes\":{},\"id\":\"1469\",\"type\":\"AllLabels\"},{\"attributes\":{},\"id\":\"1451\",\"type\":\"ResetTool\"},{\"attributes\":{},\"id\":\"1474\",\"type\":\"Selection\"},{\"attributes\":{},\"id\":\"1475\",\"type\":\"UnionRenderers\"},{\"attributes\":{\"axis\":{\"id\":\"1439\"},\"ticker\":null},\"id\":\"1442\",\"type\":\"Grid\"},{\"attributes\":{},\"id\":\"1471\",\"type\":\"BasicTickFormatter\"},{\"attributes\":{\"data\":{\"index\":[0,1,2,3,4,5,6,7,8,9,10,11,12,13,14,15,16,17,18,19,20,21,22,23,24,25,26,27,28,29,30,31,32,33,34,35,36,37,38,39,40,41,42,43,44,45,46,47,48,49,50,51,52,53,54,55,56,57,58,59,60,61,62,63,64,65,66,67,68,69,70,71,72,73,74,75,76,77,78,79,80,81,82,83,84,85,86,87,88,89,90,91,92,93,94,95,96,97,98,99,100,101,102,103,104,105,106,107,108,109,110,111,112,113,114,115,116,117,118,119,120,121,122,123,124,125,126,127,128,129,130,131,132,133,134,135,136,137,138,139,140,141,142,143,144,145,146,147,148,149,150,151,152,153,154,155,156,157,158,159,160,161,162,163,164,165,166,167,168,169,170,171,172,173,174,175,176,177,178,179,180,181,182,183,184,185,186,187,188,189,190,191,192,193,194,195,196,197,198,199,200,201,202,203,204,205,206,207,208,209,210,211,212,213,214,215,216,217,218,219,220,221,222,223,224,225,226,227,228,229,230,231,232,233,234,235,236,237,238,239,240,241,242,243,244,245,246,247,248,249,250,251,252,253,254,255,256,257,258,259,260,261,262,263,264,265,266,267,268,269,270,271,272,273,274,275,276,277,278,279,280,281,282,283,284,285,286,287,288,289,290,291,292,293,294,295,296,297,298,299,300,301,302,303,304,305,306,307,308,309,310,311,312,313,314,315,316,317,318,319,320,321,322,323,324,325,326,327,328,329,330,331,332,333,334,335,336,337,338,339,340,341,342,343,344,345,346,347,348,349,350,351,352,353,354,355,356,357,358,359,360,361,362,363,364,365,366,367,368,369,370,371,372,373,374,375,376,377,378,379,380,381,382,383,384,385,386,387,388,389,390,391,392,393,394,395,396,397,398,399,400,401,402,403,404,405,406,407,408,409,410,411,412,413,414,415,416,417,418,419,420,421,422,423,424,425,426,427,428,429,430,431,432,433,434,435,436,437,438,439,440,441,442,443,444,445,446,447,448,449,450,451,452,453,454,455,456,457,458,459,460,461,462,463,464,465,466,467,468,469,470,471,472,473,474,475,476,477,478,479,480,481,482,483,484,485,486,487,488,489,490,491,492,493,494,495,496,497,498,499],\"x\":{\"__ndarray__\":\"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\",\"dtype\":\"float64\",\"order\":\"little\",\"shape\":[500]},\"y\":{\"__ndarray__\":\"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\",\"dtype\":\"float64\",\"order\":\"little\",\"shape\":[500]}},\"selected\":{\"id\":\"1533\"},\"selection_policy\":{\"id\":\"1534\"}},\"id\":\"1429\",\"type\":\"ColumnDataSource\"},{\"attributes\":{},\"id\":\"1472\",\"type\":\"AllLabels\"},{\"attributes\":{},\"id\":\"1533\",\"type\":\"Selection\"},{\"attributes\":{},\"id\":\"1534\",\"type\":\"UnionRenderers\"},{\"attributes\":{},\"id\":\"1467\",\"type\":\"Title\"},{\"attributes\":{},\"id\":\"1444\",\"type\":\"BasicTicker\"},{\"attributes\":{\"data_source\":{\"id\":\"1461\"},\"glyph\":{\"id\":\"1462\"},\"hover_glyph\":null,\"muted_glyph\":null,\"nonselection_glyph\":{\"id\":\"1463\"},\"view\":{\"id\":\"1465\"}},\"id\":\"1464\",\"type\":\"GlyphRenderer\"},{\"attributes\":{\"label\":{\"value\":\"y=x\"},\"renderers\":[{\"id\":\"1464\"}]},\"id\":\"1478\",\"type\":\"LegendItem\"},{\"attributes\":{},\"id\":\"1440\",\"type\":\"BasicTicker\"},{\"attributes\":{},\"id\":\"1435\",\"type\":\"LinearScale\"},{\"attributes\":{},\"id\":\"1433\",\"type\":\"DataRange1d\"},{\"attributes\":{},\"id\":\"1437\",\"type\":\"LinearScale\"},{\"attributes\":{\"fill_alpha\":0.1,\"fill_color\":\"PaleGreen\",\"x\":{\"field\":\"x\"},\"y1\":{\"field\":\"y1\"},\"y2\":{\"field\":\"y2\"}},\"id\":\"1463\",\"type\":\"VArea\"},{\"attributes\":{\"bottom_units\":\"screen\",\"fill_alpha\":0.5,\"fill_color\":\"lightgrey\",\"left_units\":\"screen\",\"level\":\"overlay\",\"line_alpha\":1.0,\"line_color\":\"black\",\"line_dash\":[4,4],\"line_width\":2,\"right_units\":\"screen\",\"syncable\":false,\"top_units\":\"screen\"},\"id\":\"1453\",\"type\":\"BoxAnnotation\"},{\"attributes\":{\"fill_alpha\":0.8,\"fill_color\":\"PaleGreen\",\"x\":{\"field\":\"x\"},\"y1\":{\"field\":\"y1\"},\"y2\":{\"field\":\"y2\"}},\"id\":\"1462\",\"type\":\"VArea\"},{\"attributes\":{\"items\":[{\"id\":\"1478\"}],\"location\":\"top_left\"},\"id\":\"1477\",\"type\":\"Legend\"},{\"attributes\":{\"overlay\":{\"id\":\"1453\"}},\"id\":\"1449\",\"type\":\"BoxZoomTool\"},{\"attributes\":{\"data\":{\"x\":[0,1],\"y1\":[0,1],\"y2\":[0,0]},\"selected\":{\"id\":\"1474\"},\"selection_policy\":{\"id\":\"1475\"}},\"id\":\"1461\",\"type\":\"ColumnDataSource\"},{\"attributes\":{},\"id\":\"1431\",\"type\":\"DataRange1d\"},{\"attributes\":{\"fill_color\":{\"value\":\"SkyBlue\"},\"line_color\":{\"value\":\"SkyBlue\"},\"size\":{\"value\":3},\"x\":{\"field\":\"x\"},\"y\":{\"field\":\"y\"}},\"id\":\"1480\",\"type\":\"Circle\"},{\"attributes\":{},\"id\":\"1452\",\"type\":\"HelpTool\"},{\"attributes\":{},\"id\":\"1448\",\"type\":\"WheelZoomTool\"},{\"attributes\":{\"active_multi\":null,\"tools\":[{\"id\":\"1447\"},{\"id\":\"1448\"},{\"id\":\"1449\"},{\"id\":\"1450\"},{\"id\":\"1451\"},{\"id\":\"1452\"}]},\"id\":\"1454\",\"type\":\"Toolbar\"},{\"attributes\":{\"data_source\":{\"id\":\"1429\"},\"glyph\":{\"id\":\"1480\"},\"hover_glyph\":null,\"muted_glyph\":null,\"nonselection_glyph\":{\"id\":\"1481\"},\"view\":{\"id\":\"1483\"}},\"id\":\"1482\",\"type\":\"GlyphRenderer\"},{\"attributes\":{},\"id\":\"1447\",\"type\":\"PanTool\"},{\"attributes\":{\"source\":{\"id\":\"1461\"}},\"id\":\"1465\",\"type\":\"CDSView\"},{\"attributes\":{\"formatter\":{\"id\":\"1471\"},\"major_label_policy\":{\"id\":\"1472\"},\"ticker\":{\"id\":\"1440\"}},\"id\":\"1439\",\"type\":\"LinearAxis\"},{\"attributes\":{\"fill_alpha\":{\"value\":0.1},\"fill_color\":{\"value\":\"SkyBlue\"},\"line_alpha\":{\"value\":0.1},\"line_color\":{\"value\":\"SkyBlue\"},\"size\":{\"value\":3},\"x\":{\"field\":\"x\"},\"y\":{\"field\":\"y\"}},\"id\":\"1481\",\"type\":\"Circle\"}],\"root_ids\":[\"1430\"]},\"title\":\"Bokeh Application\",\"version\":\"2.3.1\"}};\n",
       "  var render_items = [{\"docid\":\"17f57c53-2aac-4968-82f6-bb8d578913fa\",\"notebook_comms_target\":\"1536\",\"root_ids\":[\"1430\"],\"roots\":{\"1430\":\"f08864f3-20ac-4c29-8c8b-9c1b8756bc1a\"}}];\n",
       "  root.Bokeh.embed.embed_items_notebook(docs_json, render_items);\n",
       "\n",
       "  }\n",
       "  if (root.Bokeh !== undefined) {\n",
       "    embed_document(root);\n",
       "  } else {\n",
       "    var attempts = 0;\n",
       "    var timer = setInterval(function(root) {\n",
       "      if (root.Bokeh !== undefined) {\n",
       "        clearInterval(timer);\n",
       "        embed_document(root);\n",
       "      } else {\n",
       "        attempts++;\n",
       "        if (attempts > 100) {\n",
       "          clearInterval(timer);\n",
       "          console.log(\"Bokeh: ERROR: Unable to run BokehJS code because BokehJS library is missing\");\n",
       "        }\n",
       "      }\n",
       "    }, 10, root)\n",
       "  }\n",
       "})(window);"
      ],
      "application/vnd.bokehjs_exec.v0+json": ""
     },
     "metadata": {
      "application/vnd.bokehjs_exec.v0+json": {
       "id": "1430"
      }
     },
     "output_type": "display_data"
    },
    {
     "data": {
      "application/vnd.jupyter.widget-view+json": {
       "model_id": "bdda71c7872c47c6b0e9ed260980c397",
       "version_major": 2,
       "version_minor": 0
      },
      "text/plain": [
       "IntSlider(value=500, description='Number of Random Points(n)', max=5000, min=500, step=500)"
      ]
     },
     "metadata": {},
     "output_type": "display_data"
    }
   ],
   "source": [
    "#figure 4\n",
    "n_int = 500\n",
    "df3 = random_coordinates(n_int)\n",
    "source3 = ColumnDataSource(df3)\n",
    "fig4 = figure(width=400, height=400,match_aspect = True)\n",
    "fig4.varea(x=[0,1],y1=[0,1],y2=[0,0],color='PaleGreen',legend_label='y=x',fill_alpha=0.8)\n",
    "fig4.circle(x='x',y='y',size=3,source=source3,color='SkyBlue')\n",
    "fig4.legend.location = 'top_left'\n",
    "handle2 = show(fig4, notebook_handle=True)\n",
    "n_int_slider = widgets.IntSlider(\n",
    "    description=\"Number of Random Points(n)\",\n",
    "    min=500,\n",
    "    max=5000,\n",
    "    value=500,\n",
    "    step=500,\n",
    ")\n",
    "\n",
    "def n_int_change_handler(change):\n",
    "    n_int = change.new\n",
    "    new_data = random_coordinates(n_int)\n",
    "    source3 = ColumnDataSource(new_data)\n",
    "    #clear renderers\n",
    "    fig4.renderers = [fig4.renderers[0]]\n",
    "    #add new renderer\n",
    "    fig4.circle(x='x',y='y',size=3,source=source3,color='SkyBlue')\n",
    "    new_data = np.asarray(new_data)\n",
    "    count = 0\n",
    "    for entry in new_data:\n",
    "        if(entry[0] > entry[1]):\n",
    "            count += 1\n",
    "    area = count/n_int\n",
    "    error = abs(1-(area/0.5))\n",
    "    print('\\rArea = ',\"{:.5f}\".format(area),',  Error: ',\"{:.5f}\".format(error), end='')\n",
    "    push_notebook(handle=handle2)\n",
    "\n",
    "n_int_slider.observe(n_int_change_handler, names='value')\n",
    "display(n_int_slider)"
   ]
  },
  {
   "cell_type": "markdown",
   "metadata": {},
   "source": [
    "### Second Approach\n",
    "\n",
    "Another approach to the problem is often used. Lets say we want to calculate the area under the curve $f(x)$. Instead of picking random points in the square, we can randomly pick within the domain of the curve (a,b). We can estimate the area under the curve by $f(x)*(b-a)$. By taking a large number of random x values, we will be able to estimate the integral by taking the average."
   ]
  },
  {
   "cell_type": "code",
   "execution_count": 8,
   "metadata": {
    "ExecuteTime": {
     "end_time": "2021-04-25T04:40:57.281585Z",
     "start_time": "2021-04-25T04:40:56.901867Z"
    },
    "scrolled": false
   },
   "outputs": [
    {
     "data": {
      "text/html": [
       "\n",
       "\n",
       "\n",
       "\n",
       "\n",
       "\n",
       "  <div class=\"bk-root\" id=\"853e7403-f512-4a40-af61-2d73fea6ecdb\" data-root-id=\"1935\"></div>\n"
      ]
     },
     "metadata": {},
     "output_type": "display_data"
    },
    {
     "data": {
      "application/javascript": [
       "(function(root) {\n",
       "  function embed_document(root) {\n",
       "    \n",
       "  var docs_json = {\"6b4d08be-d3a5-43d2-8ddd-d7908d119d35\":{\"defs\":[],\"roots\":{\"references\":[{\"attributes\":{\"children\":[{\"id\":\"1934\"},{\"id\":\"1932\"}]},\"id\":\"1935\",\"type\":\"Column\"},{\"attributes\":{\"below\":[{\"id\":\"1816\"}],\"center\":[{\"id\":\"1819\"},{\"id\":\"1823\"}],\"height\":200,\"left\":[{\"id\":\"1820\"}],\"match_aspect\":true,\"renderers\":[{\"id\":\"1841\"},{\"id\":\"1846\"}],\"title\":{\"id\":\"1919\"},\"toolbar\":{\"id\":\"1831\"},\"toolbar_location\":null,\"width\":200,\"x_range\":{\"id\":\"1808\"},\"x_scale\":{\"id\":\"1812\"},\"y_range\":{\"id\":\"1810\"},\"y_scale\":{\"id\":\"1814\"}},\"id\":\"1807\",\"subtype\":\"Figure\",\"type\":\"Plot\"},{\"attributes\":{},\"id\":\"1905\",\"type\":\"Title\"},{\"attributes\":{\"fill_alpha\":0.8,\"fill_color\":\"PaleGreen\",\"x\":{\"field\":\"x\"},\"y1\":{\"field\":\"y1\"},\"y2\":{\"field\":\"y2\"}},\"id\":\"1798\",\"type\":\"VArea\"},{\"attributes\":{\"overlay\":{\"id\":\"1748\"}},\"id\":\"1744\",\"type\":\"BoxZoomTool\"},{\"attributes\":{\"data_source\":{\"id\":\"1756\"},\"glyph\":{\"id\":\"1757\"},\"hover_glyph\":null,\"muted_glyph\":null,\"nonselection_glyph\":{\"id\":\"1758\"},\"view\":{\"id\":\"1760\"}},\"id\":\"1759\",\"type\":\"GlyphRenderer\"},{\"attributes\":{},\"id\":\"1853\",\"type\":\"BasicTickFormatter\"},{\"attributes\":{},\"id\":\"1808\",\"type\":\"DataRange1d\"},{\"attributes\":{},\"id\":\"1854\",\"type\":\"AllLabels\"},{\"attributes\":{\"source\":{\"id\":\"1756\"}},\"id\":\"1760\",\"type\":\"CDSView\"},{\"attributes\":{\"source\":{\"id\":\"1802\"}},\"id\":\"1806\",\"type\":\"CDSView\"},{\"attributes\":{},\"id\":\"1810\",\"type\":\"DataRange1d\"},{\"attributes\":{\"data\":{\"x\":[0,1],\"y\":[0,1]},\"selected\":{\"id\":\"1900\"},\"selection_policy\":{\"id\":\"1901\"}},\"id\":\"1761\",\"type\":\"ColumnDataSource\"},{\"attributes\":{},\"id\":\"1814\",\"type\":\"LinearScale\"},{\"attributes\":{\"source\":{\"id\":\"1761\"}},\"id\":\"1765\",\"type\":\"CDSView\"},{\"attributes\":{\"formatter\":{\"id\":\"1923\"},\"major_label_policy\":{\"id\":\"1924\"},\"ticker\":{\"id\":\"1817\"}},\"id\":\"1816\",\"type\":\"LinearAxis\"},{\"attributes\":{\"line_color\":\"#1f77b4\",\"line_width\":2,\"x\":{\"field\":\"x\"},\"y\":{\"field\":\"y\"}},\"id\":\"1762\",\"type\":\"Line\"},{\"attributes\":{\"below\":[{\"id\":\"1775\"}],\"center\":[{\"id\":\"1778\"},{\"id\":\"1782\"}],\"height\":200,\"left\":[{\"id\":\"1779\"}],\"match_aspect\":true,\"renderers\":[{\"id\":\"1800\"},{\"id\":\"1805\"}],\"title\":{\"id\":\"1905\"},\"toolbar\":{\"id\":\"1790\"},\"toolbar_location\":null,\"width\":200,\"x_range\":{\"id\":\"1767\"},\"x_scale\":{\"id\":\"1771\"},\"y_range\":{\"id\":\"1769\"},\"y_scale\":{\"id\":\"1773\"}},\"id\":\"1766\",\"subtype\":\"Figure\",\"type\":\"Plot\"},{\"attributes\":{\"line_color\":\"#1f77b4\",\"line_width\":2,\"x\":{\"field\":\"x\"},\"y\":{\"field\":\"y\"}},\"id\":\"1844\",\"type\":\"Line\"},{\"attributes\":{},\"id\":\"1926\",\"type\":\"Selection\"},{\"attributes\":{},\"id\":\"1767\",\"type\":\"DataRange1d\"},{\"attributes\":{},\"id\":\"1812\",\"type\":\"LinearScale\"},{\"attributes\":{},\"id\":\"1927\",\"type\":\"UnionRenderers\"},{\"attributes\":{\"source\":{\"id\":\"1843\"}},\"id\":\"1847\",\"type\":\"CDSView\"},{\"attributes\":{},\"id\":\"1886\",\"type\":\"Selection\"},{\"attributes\":{\"fill_alpha\":0.1,\"fill_color\":\"PaleGreen\",\"x\":{\"field\":\"x\"},\"y1\":{\"field\":\"y1\"},\"y2\":{\"field\":\"y2\"}},\"id\":\"1717\",\"type\":\"VArea\"},{\"attributes\":{\"data\":{\"x\":[0,1],\"y1\":[0.8105870188024439,0.8105870188024439],\"y2\":[0,0]},\"selected\":{\"id\":\"1912\"},\"selection_policy\":{\"id\":\"1913\"}},\"id\":\"1797\",\"type\":\"ColumnDataSource\"},{\"attributes\":{},\"id\":\"1817\",\"type\":\"BasicTicker\"},{\"attributes\":{\"data_source\":{\"id\":\"1761\"},\"glyph\":{\"id\":\"1762\"},\"hover_glyph\":null,\"muted_glyph\":null,\"nonselection_glyph\":{\"id\":\"1763\"},\"view\":{\"id\":\"1765\"}},\"id\":\"1764\",\"type\":\"GlyphRenderer\"},{\"attributes\":{\"axis\":{\"id\":\"1816\"},\"ticker\":null},\"id\":\"1819\",\"type\":\"Grid\"},{\"attributes\":{},\"id\":\"1887\",\"type\":\"UnionRenderers\"},{\"attributes\":{\"line_alpha\":0.1,\"line_color\":\"#1f77b4\",\"line_width\":2,\"x\":{\"field\":\"x\"},\"y\":{\"field\":\"y\"}},\"id\":\"1763\",\"type\":\"Line\"},{\"attributes\":{},\"id\":\"1769\",\"type\":\"DataRange1d\"},{\"attributes\":{\"data\":{\"x\":[0,1],\"y\":[0,1]},\"selected\":{\"id\":\"1928\"},\"selection_policy\":{\"id\":\"1929\"}},\"id\":\"1843\",\"type\":\"ColumnDataSource\"},{\"attributes\":{},\"id\":\"1773\",\"type\":\"LinearScale\"},{\"attributes\":{\"bottom_units\":\"screen\",\"fill_alpha\":0.5,\"fill_color\":\"lightgrey\",\"left_units\":\"screen\",\"level\":\"overlay\",\"line_alpha\":1.0,\"line_color\":\"black\",\"line_dash\":[4,4],\"line_width\":2,\"right_units\":\"screen\",\"syncable\":false,\"top_units\":\"screen\"},\"id\":\"1830\",\"type\":\"BoxAnnotation\"},{\"attributes\":{\"formatter\":{\"id\":\"1909\"},\"major_label_policy\":{\"id\":\"1910\"},\"ticker\":{\"id\":\"1776\"}},\"id\":\"1775\",\"type\":\"LinearAxis\"},{\"attributes\":{\"fill_alpha\":0.1,\"fill_color\":\"PaleGreen\",\"x\":{\"field\":\"x\"},\"y1\":{\"field\":\"y1\"},\"y2\":{\"field\":\"y2\"}},\"id\":\"1840\",\"type\":\"VArea\"},{\"attributes\":{\"formatter\":{\"id\":\"1906\"},\"major_label_policy\":{\"id\":\"1907\"},\"ticker\":{\"id\":\"1780\"}},\"id\":\"1779\",\"type\":\"LinearAxis\"},{\"attributes\":{},\"id\":\"1771\",\"type\":\"LinearScale\"},{\"attributes\":{},\"id\":\"1788\",\"type\":\"HelpTool\"},{\"attributes\":{},\"id\":\"1776\",\"type\":\"BasicTicker\"},{\"attributes\":{\"axis\":{\"id\":\"1775\"},\"ticker\":null},\"id\":\"1778\",\"type\":\"Grid\"},{\"attributes\":{\"source\":{\"id\":\"1838\"}},\"id\":\"1842\",\"type\":\"CDSView\"},{\"attributes\":{\"data_source\":{\"id\":\"1838\"},\"glyph\":{\"id\":\"1839\"},\"hover_glyph\":null,\"muted_glyph\":null,\"nonselection_glyph\":{\"id\":\"1840\"},\"view\":{\"id\":\"1842\"}},\"id\":\"1841\",\"type\":\"GlyphRenderer\"},{\"attributes\":{},\"id\":\"1928\",\"type\":\"Selection\"},{\"attributes\":{},\"id\":\"1929\",\"type\":\"UnionRenderers\"},{\"attributes\":{\"data_source\":{\"id\":\"1674\"},\"glyph\":{\"id\":\"1675\"},\"hover_glyph\":null,\"muted_glyph\":null,\"nonselection_glyph\":{\"id\":\"1676\"},\"view\":{\"id\":\"1678\"}},\"id\":\"1677\",\"type\":\"GlyphRenderer\"},{\"attributes\":{\"axis\":{\"id\":\"1779\"},\"dimension\":1,\"ticker\":null},\"id\":\"1782\",\"type\":\"Grid\"},{\"attributes\":{},\"id\":\"1906\",\"type\":\"BasicTickFormatter\"},{\"attributes\":{\"fill_alpha\":0.8,\"fill_color\":\"PaleGreen\",\"x\":{\"field\":\"x\"},\"y1\":{\"field\":\"y1\"},\"y2\":{\"field\":\"y2\"}},\"id\":\"1716\",\"type\":\"VArea\"},{\"attributes\":{},\"id\":\"1780\",\"type\":\"BasicTicker\"},{\"attributes\":{},\"id\":\"1907\",\"type\":\"AllLabels\"},{\"attributes\":{},\"id\":\"1784\",\"type\":\"WheelZoomTool\"},{\"attributes\":{\"bottom_units\":\"screen\",\"fill_alpha\":0.5,\"fill_color\":\"lightgrey\",\"left_units\":\"screen\",\"level\":\"overlay\",\"line_alpha\":1.0,\"line_color\":\"black\",\"line_dash\":[4,4],\"line_width\":2,\"right_units\":\"screen\",\"syncable\":false,\"top_units\":\"screen\"},\"id\":\"1666\",\"type\":\"BoxAnnotation\"},{\"attributes\":{},\"id\":\"1856\",\"type\":\"Selection\"},{\"attributes\":{},\"id\":\"1783\",\"type\":\"PanTool\"},{\"attributes\":{\"data\":{\"x\":[0,1],\"y\":[0,1]},\"selected\":{\"id\":\"1872\"},\"selection_policy\":{\"id\":\"1873\"}},\"id\":\"1679\",\"type\":\"ColumnDataSource\"},{\"attributes\":{},\"id\":\"1857\",\"type\":\"UnionRenderers\"},{\"attributes\":{\"overlay\":{\"id\":\"1789\"}},\"id\":\"1785\",\"type\":\"BoxZoomTool\"},{\"attributes\":{\"source\":{\"id\":\"1674\"}},\"id\":\"1678\",\"type\":\"CDSView\"},{\"attributes\":{},\"id\":\"1786\",\"type\":\"SaveTool\"},{\"attributes\":{\"source\":{\"id\":\"1679\"}},\"id\":\"1683\",\"type\":\"CDSView\"},{\"attributes\":{},\"id\":\"1787\",\"type\":\"ResetTool\"},{\"attributes\":{},\"id\":\"1919\",\"type\":\"Title\"},{\"attributes\":{},\"id\":\"1909\",\"type\":\"BasicTickFormatter\"},{\"attributes\":{},\"id\":\"1746\",\"type\":\"ResetTool\"},{\"attributes\":{},\"id\":\"1910\",\"type\":\"AllLabels\"},{\"attributes\":{},\"id\":\"1824\",\"type\":\"PanTool\"},{\"attributes\":{\"active_multi\":null,\"tools\":[{\"id\":\"1824\"},{\"id\":\"1825\"},{\"id\":\"1826\"},{\"id\":\"1827\"},{\"id\":\"1828\"},{\"id\":\"1829\"}]},\"id\":\"1831\",\"type\":\"Toolbar\"},{\"attributes\":{},\"id\":\"1829\",\"type\":\"HelpTool\"},{\"attributes\":{},\"id\":\"1821\",\"type\":\"BasicTicker\"},{\"attributes\":{},\"id\":\"1825\",\"type\":\"WheelZoomTool\"},{\"attributes\":{\"overlay\":{\"id\":\"1830\"}},\"id\":\"1826\",\"type\":\"BoxZoomTool\"},{\"attributes\":{\"data\":{\"x\":[0,1],\"y1\":[0.8415269552104312,0.8415269552104312],\"y2\":[0,0]},\"selected\":{\"id\":\"1926\"},\"selection_policy\":{\"id\":\"1927\"}},\"id\":\"1838\",\"type\":\"ColumnDataSource\"},{\"attributes\":{},\"id\":\"1827\",\"type\":\"SaveTool\"},{\"attributes\":{},\"id\":\"1858\",\"type\":\"Selection\"},{\"attributes\":{\"data_source\":{\"id\":\"1802\"},\"glyph\":{\"id\":\"1803\"},\"hover_glyph\":null,\"muted_glyph\":null,\"nonselection_glyph\":{\"id\":\"1804\"},\"view\":{\"id\":\"1806\"}},\"id\":\"1805\",\"type\":\"GlyphRenderer\"},{\"attributes\":{\"axis\":{\"id\":\"1820\"},\"dimension\":1,\"ticker\":null},\"id\":\"1823\",\"type\":\"Grid\"},{\"attributes\":{},\"id\":\"1859\",\"type\":\"UnionRenderers\"},{\"attributes\":{\"line_color\":\"#1f77b4\",\"line_width\":2,\"x\":{\"field\":\"x\"},\"y\":{\"field\":\"y\"}},\"id\":\"1803\",\"type\":\"Line\"},{\"attributes\":{\"line_alpha\":0.1,\"line_color\":\"#1f77b4\",\"line_width\":2,\"x\":{\"field\":\"x\"},\"y\":{\"field\":\"y\"}},\"id\":\"1681\",\"type\":\"Line\"},{\"attributes\":{\"line_alpha\":0.1,\"line_color\":\"#1f77b4\",\"line_width\":2,\"x\":{\"field\":\"x\"},\"y\":{\"field\":\"y\"}},\"id\":\"1804\",\"type\":\"Line\"},{\"attributes\":{\"toolbar\":{\"id\":\"1933\"},\"toolbar_location\":\"above\"},\"id\":\"1934\",\"type\":\"ToolbarBox\"},{\"attributes\":{},\"id\":\"1687\",\"type\":\"DataRange1d\"},{\"attributes\":{\"data_source\":{\"id\":\"1843\"},\"glyph\":{\"id\":\"1844\"},\"hover_glyph\":null,\"muted_glyph\":null,\"nonselection_glyph\":{\"id\":\"1845\"},\"view\":{\"id\":\"1847\"}},\"id\":\"1846\",\"type\":\"GlyphRenderer\"},{\"attributes\":{\"formatter\":{\"id\":\"1920\"},\"major_label_policy\":{\"id\":\"1921\"},\"ticker\":{\"id\":\"1821\"}},\"id\":\"1820\",\"type\":\"LinearAxis\"},{\"attributes\":{\"data\":{\"x\":[0,1],\"y1\":[0.5100862886776921,0.5100862886776921],\"y2\":[0,0]},\"selected\":{\"id\":\"1884\"},\"selection_policy\":{\"id\":\"1885\"}},\"id\":\"1715\",\"type\":\"ColumnDataSource\"},{\"attributes\":{\"data_source\":{\"id\":\"1679\"},\"glyph\":{\"id\":\"1680\"},\"hover_glyph\":null,\"muted_glyph\":null,\"nonselection_glyph\":{\"id\":\"1681\"},\"view\":{\"id\":\"1683\"}},\"id\":\"1682\",\"type\":\"GlyphRenderer\"},{\"attributes\":{\"data\":{\"x\":[0,1],\"y\":[0,1]},\"selected\":{\"id\":\"1914\"},\"selection_policy\":{\"id\":\"1915\"}},\"id\":\"1802\",\"type\":\"ColumnDataSource\"},{\"attributes\":{\"line_alpha\":0.1,\"line_color\":\"#1f77b4\",\"line_width\":2,\"x\":{\"field\":\"x\"},\"y\":{\"field\":\"y\"}},\"id\":\"1845\",\"type\":\"Line\"},{\"attributes\":{\"fill_alpha\":0.1,\"fill_color\":\"PaleGreen\",\"x\":{\"field\":\"x\"},\"y1\":{\"field\":\"y1\"},\"y2\":{\"field\":\"y2\"}},\"id\":\"1799\",\"type\":\"VArea\"},{\"attributes\":{},\"id\":\"1689\",\"type\":\"LinearScale\"},{\"attributes\":{},\"id\":\"1891\",\"type\":\"Title\"},{\"attributes\":{},\"id\":\"1849\",\"type\":\"Title\"},{\"attributes\":{\"source\":{\"id\":\"1797\"}},\"id\":\"1801\",\"type\":\"CDSView\"},{\"attributes\":{\"bottom_units\":\"screen\",\"fill_alpha\":0.5,\"fill_color\":\"lightgrey\",\"left_units\":\"screen\",\"level\":\"overlay\",\"line_alpha\":1.0,\"line_color\":\"black\",\"line_dash\":[4,4],\"line_width\":2,\"right_units\":\"screen\",\"syncable\":false,\"top_units\":\"screen\"},\"id\":\"1789\",\"type\":\"BoxAnnotation\"},{\"attributes\":{\"data_source\":{\"id\":\"1797\"},\"glyph\":{\"id\":\"1798\"},\"hover_glyph\":null,\"muted_glyph\":null,\"nonselection_glyph\":{\"id\":\"1799\"},\"view\":{\"id\":\"1801\"}},\"id\":\"1800\",\"type\":\"GlyphRenderer\"},{\"attributes\":{},\"id\":\"1920\",\"type\":\"BasicTickFormatter\"},{\"attributes\":{\"fill_alpha\":0.8,\"fill_color\":\"PaleGreen\",\"x\":{\"field\":\"x\"},\"y1\":{\"field\":\"y1\"},\"y2\":{\"field\":\"y2\"}},\"id\":\"1839\",\"type\":\"VArea\"},{\"attributes\":{},\"id\":\"1921\",\"type\":\"AllLabels\"},{\"attributes\":{},\"id\":\"1912\",\"type\":\"Selection\"},{\"attributes\":{},\"id\":\"1913\",\"type\":\"UnionRenderers\"},{\"attributes\":{\"active_multi\":null,\"tools\":[{\"id\":\"1783\"},{\"id\":\"1784\"},{\"id\":\"1785\"},{\"id\":\"1786\"},{\"id\":\"1787\"},{\"id\":\"1788\"}]},\"id\":\"1790\",\"type\":\"Toolbar\"},{\"attributes\":{},\"id\":\"1923\",\"type\":\"BasicTickFormatter\"},{\"attributes\":{},\"id\":\"1691\",\"type\":\"LinearScale\"},{\"attributes\":{},\"id\":\"1924\",\"type\":\"AllLabels\"},{\"attributes\":{},\"id\":\"1914\",\"type\":\"Selection\"},{\"attributes\":{},\"id\":\"1885\",\"type\":\"UnionRenderers\"},{\"attributes\":{},\"id\":\"1915\",\"type\":\"UnionRenderers\"},{\"attributes\":{},\"id\":\"1892\",\"type\":\"BasicTickFormatter\"},{\"attributes\":{},\"id\":\"1850\",\"type\":\"BasicTickFormatter\"},{\"attributes\":{},\"id\":\"1828\",\"type\":\"ResetTool\"},{\"attributes\":{},\"id\":\"1893\",\"type\":\"AllLabels\"},{\"attributes\":{},\"id\":\"1705\",\"type\":\"ResetTool\"},{\"attributes\":{\"below\":[{\"id\":\"1693\"}],\"center\":[{\"id\":\"1696\"},{\"id\":\"1700\"}],\"height\":200,\"left\":[{\"id\":\"1697\"}],\"match_aspect\":true,\"renderers\":[{\"id\":\"1718\"},{\"id\":\"1723\"}],\"title\":{\"id\":\"1877\"},\"toolbar\":{\"id\":\"1708\"},\"toolbar_location\":null,\"width\":200,\"x_range\":{\"id\":\"1685\"},\"x_scale\":{\"id\":\"1689\"},\"y_range\":{\"id\":\"1687\"},\"y_scale\":{\"id\":\"1691\"}},\"id\":\"1684\",\"subtype\":\"Figure\",\"type\":\"Plot\"},{\"attributes\":{},\"id\":\"1851\",\"type\":\"AllLabels\"},{\"attributes\":{\"line_color\":\"#1f77b4\",\"line_width\":2,\"x\":{\"field\":\"x\"},\"y\":{\"field\":\"y\"}},\"id\":\"1680\",\"type\":\"Line\"},{\"attributes\":{},\"id\":\"1745\",\"type\":\"SaveTool\"},{\"attributes\":{},\"id\":\"1685\",\"type\":\"DataRange1d\"},{\"attributes\":{},\"id\":\"1864\",\"type\":\"BasicTickFormatter\"},{\"attributes\":{},\"id\":\"1895\",\"type\":\"BasicTickFormatter\"},{\"attributes\":{\"fill_alpha\":0.8,\"fill_color\":\"PaleGreen\",\"x\":{\"field\":\"x\"},\"y1\":{\"field\":\"y1\"},\"y2\":{\"field\":\"y2\"}},\"id\":\"1634\",\"type\":\"VArea\"},{\"attributes\":{},\"id\":\"1865\",\"type\":\"AllLabels\"},{\"attributes\":{},\"id\":\"1603\",\"type\":\"DataRange1d\"},{\"attributes\":{},\"id\":\"1863\",\"type\":\"Title\"},{\"attributes\":{},\"id\":\"1896\",\"type\":\"AllLabels\"},{\"attributes\":{},\"id\":\"1868\",\"type\":\"AllLabels\"},{\"attributes\":{},\"id\":\"1867\",\"type\":\"BasicTickFormatter\"},{\"attributes\":{},\"id\":\"1726\",\"type\":\"DataRange1d\"},{\"attributes\":{\"data\":{\"x\":[0,1],\"y1\":[0.30473164879222725,0.30473164879222725],\"y2\":[0,0]},\"selected\":{\"id\":\"1856\"},\"selection_policy\":{\"id\":\"1857\"}},\"id\":\"1633\",\"type\":\"ColumnDataSource\"},{\"attributes\":{\"below\":[{\"id\":\"1611\"}],\"center\":[{\"id\":\"1614\"},{\"id\":\"1618\"}],\"height\":200,\"left\":[{\"id\":\"1615\"}],\"match_aspect\":true,\"renderers\":[{\"id\":\"1636\"},{\"id\":\"1641\"}],\"title\":{\"id\":\"1849\"},\"toolbar\":{\"id\":\"1626\"},\"toolbar_location\":null,\"width\":200,\"x_range\":{\"id\":\"1603\"},\"x_scale\":{\"id\":\"1607\"},\"y_range\":{\"id\":\"1605\"},\"y_scale\":{\"id\":\"1609\"}},\"id\":\"1602\",\"subtype\":\"Figure\",\"type\":\"Plot\"},{\"attributes\":{},\"id\":\"1609\",\"type\":\"LinearScale\"},{\"attributes\":{\"toolbars\":[{\"id\":\"1626\"},{\"id\":\"1667\"},{\"id\":\"1708\"},{\"id\":\"1749\"},{\"id\":\"1790\"},{\"id\":\"1831\"}],\"tools\":[{\"id\":\"1619\"},{\"id\":\"1620\"},{\"id\":\"1621\"},{\"id\":\"1622\"},{\"id\":\"1623\"},{\"id\":\"1624\"},{\"id\":\"1660\"},{\"id\":\"1661\"},{\"id\":\"1662\"},{\"id\":\"1663\"},{\"id\":\"1664\"},{\"id\":\"1665\"},{\"id\":\"1701\"},{\"id\":\"1702\"},{\"id\":\"1703\"},{\"id\":\"1704\"},{\"id\":\"1705\"},{\"id\":\"1706\"},{\"id\":\"1742\"},{\"id\":\"1743\"},{\"id\":\"1744\"},{\"id\":\"1745\"},{\"id\":\"1746\"},{\"id\":\"1747\"},{\"id\":\"1783\"},{\"id\":\"1784\"},{\"id\":\"1785\"},{\"id\":\"1786\"},{\"id\":\"1787\"},{\"id\":\"1788\"},{\"id\":\"1824\"},{\"id\":\"1825\"},{\"id\":\"1826\"},{\"id\":\"1827\"},{\"id\":\"1828\"},{\"id\":\"1829\"}]},\"id\":\"1933\",\"type\":\"ProxyToolbar\"},{\"attributes\":{\"below\":[{\"id\":\"1734\"}],\"center\":[{\"id\":\"1737\"},{\"id\":\"1741\"}],\"height\":200,\"left\":[{\"id\":\"1738\"}],\"match_aspect\":true,\"renderers\":[{\"id\":\"1759\"},{\"id\":\"1764\"}],\"title\":{\"id\":\"1891\"},\"toolbar\":{\"id\":\"1749\"},\"toolbar_location\":null,\"width\":200,\"x_range\":{\"id\":\"1726\"},\"x_scale\":{\"id\":\"1730\"},\"y_range\":{\"id\":\"1728\"},\"y_scale\":{\"id\":\"1732\"}},\"id\":\"1725\",\"subtype\":\"Figure\",\"type\":\"Plot\"},{\"attributes\":{},\"id\":\"1742\",\"type\":\"PanTool\"},{\"attributes\":{},\"id\":\"1743\",\"type\":\"WheelZoomTool\"},{\"attributes\":{\"line_color\":\"#1f77b4\",\"line_width\":2,\"x\":{\"field\":\"x\"},\"y\":{\"field\":\"y\"}},\"id\":\"1721\",\"type\":\"Line\"},{\"attributes\":{\"active_multi\":null,\"tools\":[{\"id\":\"1619\"},{\"id\":\"1620\"},{\"id\":\"1621\"},{\"id\":\"1622\"},{\"id\":\"1623\"},{\"id\":\"1624\"}]},\"id\":\"1626\",\"type\":\"Toolbar\"},{\"attributes\":{\"source\":{\"id\":\"1720\"}},\"id\":\"1724\",\"type\":\"CDSView\"},{\"attributes\":{\"axis\":{\"id\":\"1738\"},\"dimension\":1,\"ticker\":null},\"id\":\"1741\",\"type\":\"Grid\"},{\"attributes\":{\"overlay\":{\"id\":\"1625\"}},\"id\":\"1621\",\"type\":\"BoxZoomTool\"},{\"attributes\":{\"data\":{\"x\":[0,1],\"y\":[0,1]},\"selected\":{\"id\":\"1886\"},\"selection_policy\":{\"id\":\"1887\"}},\"id\":\"1720\",\"type\":\"ColumnDataSource\"},{\"attributes\":{\"axis\":{\"id\":\"1611\"},\"ticker\":null},\"id\":\"1614\",\"type\":\"Grid\"},{\"attributes\":{\"data\":{\"x\":[0,1],\"y1\":[0.42145686787326175,0.42145686787326175],\"y2\":[0,0]},\"selected\":{\"id\":\"1870\"},\"selection_policy\":{\"id\":\"1871\"}},\"id\":\"1674\",\"type\":\"ColumnDataSource\"},{\"attributes\":{\"source\":{\"id\":\"1715\"}},\"id\":\"1719\",\"type\":\"CDSView\"},{\"attributes\":{},\"id\":\"1650\",\"type\":\"LinearScale\"},{\"attributes\":{\"below\":[{\"id\":\"1652\"}],\"center\":[{\"id\":\"1655\"},{\"id\":\"1659\"}],\"height\":200,\"left\":[{\"id\":\"1656\"}],\"match_aspect\":true,\"renderers\":[{\"id\":\"1677\"},{\"id\":\"1682\"}],\"title\":{\"id\":\"1863\"},\"toolbar\":{\"id\":\"1667\"},\"toolbar_location\":null,\"width\":200,\"x_range\":{\"id\":\"1644\"},\"x_scale\":{\"id\":\"1648\"},\"y_range\":{\"id\":\"1646\"},\"y_scale\":{\"id\":\"1650\"}},\"id\":\"1643\",\"subtype\":\"Figure\",\"type\":\"Plot\"},{\"attributes\":{\"data_source\":{\"id\":\"1715\"},\"glyph\":{\"id\":\"1716\"},\"hover_glyph\":null,\"muted_glyph\":null,\"nonselection_glyph\":{\"id\":\"1717\"},\"view\":{\"id\":\"1719\"}},\"id\":\"1718\",\"type\":\"GlyphRenderer\"},{\"attributes\":{},\"id\":\"1661\",\"type\":\"WheelZoomTool\"},{\"attributes\":{\"bottom_units\":\"screen\",\"fill_alpha\":0.5,\"fill_color\":\"lightgrey\",\"left_units\":\"screen\",\"level\":\"overlay\",\"line_alpha\":1.0,\"line_color\":\"black\",\"line_dash\":[4,4],\"line_width\":2,\"right_units\":\"screen\",\"syncable\":false,\"top_units\":\"screen\"},\"id\":\"1707\",\"type\":\"BoxAnnotation\"},{\"attributes\":{},\"id\":\"1665\",\"type\":\"HelpTool\"},{\"attributes\":{\"formatter\":{\"id\":\"1853\"},\"major_label_policy\":{\"id\":\"1854\"},\"ticker\":{\"id\":\"1612\"}},\"id\":\"1611\",\"type\":\"LinearAxis\"},{\"attributes\":{},\"id\":\"1877\",\"type\":\"Title\"},{\"attributes\":{},\"id\":\"1620\",\"type\":\"WheelZoomTool\"},{\"attributes\":{},\"id\":\"1612\",\"type\":\"BasicTicker\"},{\"attributes\":{\"fill_alpha\":0.8,\"fill_color\":\"PaleGreen\",\"x\":{\"field\":\"x\"},\"y1\":{\"field\":\"y1\"},\"y2\":{\"field\":\"y2\"}},\"id\":\"1757\",\"type\":\"VArea\"},{\"attributes\":{},\"id\":\"1622\",\"type\":\"SaveTool\"},{\"attributes\":{\"formatter\":{\"id\":\"1864\"},\"major_label_policy\":{\"id\":\"1865\"},\"ticker\":{\"id\":\"1657\"}},\"id\":\"1656\",\"type\":\"LinearAxis\"},{\"attributes\":{\"formatter\":{\"id\":\"1867\"},\"major_label_policy\":{\"id\":\"1868\"},\"ticker\":{\"id\":\"1653\"}},\"id\":\"1652\",\"type\":\"LinearAxis\"},{\"attributes\":{\"line_color\":\"#1f77b4\",\"line_width\":2,\"x\":{\"field\":\"x\"},\"y\":{\"field\":\"y\"}},\"id\":\"1639\",\"type\":\"Line\"},{\"attributes\":{},\"id\":\"1660\",\"type\":\"PanTool\"},{\"attributes\":{},\"id\":\"1898\",\"type\":\"Selection\"},{\"attributes\":{},\"id\":\"1899\",\"type\":\"UnionRenderers\"},{\"attributes\":{},\"id\":\"1657\",\"type\":\"BasicTicker\"},{\"attributes\":{},\"id\":\"1648\",\"type\":\"LinearScale\"},{\"attributes\":{},\"id\":\"1735\",\"type\":\"BasicTicker\"},{\"attributes\":{\"children\":[[{\"id\":\"1602\"},0,0],[{\"id\":\"1643\"},0,1],[{\"id\":\"1684\"},0,2],[{\"id\":\"1725\"},1,0],[{\"id\":\"1766\"},1,1],[{\"id\":\"1807\"},1,2]]},\"id\":\"1932\",\"type\":\"GridBox\"},{\"attributes\":{},\"id\":\"1694\",\"type\":\"BasicTicker\"},{\"attributes\":{\"data\":{\"x\":[0,1],\"y\":[0,1]},\"selected\":{\"id\":\"1858\"},\"selection_policy\":{\"id\":\"1859\"}},\"id\":\"1638\",\"type\":\"ColumnDataSource\"},{\"attributes\":{\"data_source\":{\"id\":\"1638\"},\"glyph\":{\"id\":\"1639\"},\"hover_glyph\":null,\"muted_glyph\":null,\"nonselection_glyph\":{\"id\":\"1640\"},\"view\":{\"id\":\"1642\"}},\"id\":\"1641\",\"type\":\"GlyphRenderer\"},{\"attributes\":{\"fill_alpha\":0.1,\"fill_color\":\"PaleGreen\",\"x\":{\"field\":\"x\"},\"y1\":{\"field\":\"y1\"},\"y2\":{\"field\":\"y2\"}},\"id\":\"1635\",\"type\":\"VArea\"},{\"attributes\":{\"axis\":{\"id\":\"1693\"},\"ticker\":null},\"id\":\"1696\",\"type\":\"Grid\"},{\"attributes\":{\"source\":{\"id\":\"1633\"}},\"id\":\"1637\",\"type\":\"CDSView\"},{\"attributes\":{},\"id\":\"1900\",\"type\":\"Selection\"},{\"attributes\":{\"axis\":{\"id\":\"1656\"},\"dimension\":1,\"ticker\":null},\"id\":\"1659\",\"type\":\"Grid\"},{\"attributes\":{\"source\":{\"id\":\"1638\"}},\"id\":\"1642\",\"type\":\"CDSView\"},{\"attributes\":{},\"id\":\"1901\",\"type\":\"UnionRenderers\"},{\"attributes\":{\"fill_alpha\":0.1,\"fill_color\":\"PaleGreen\",\"x\":{\"field\":\"x\"},\"y1\":{\"field\":\"y1\"},\"y2\":{\"field\":\"y2\"}},\"id\":\"1676\",\"type\":\"VArea\"},{\"attributes\":{},\"id\":\"1878\",\"type\":\"BasicTickFormatter\"},{\"attributes\":{},\"id\":\"1644\",\"type\":\"DataRange1d\"},{\"attributes\":{},\"id\":\"1623\",\"type\":\"ResetTool\"},{\"attributes\":{},\"id\":\"1879\",\"type\":\"AllLabels\"},{\"attributes\":{\"fill_alpha\":0.1,\"fill_color\":\"PaleGreen\",\"x\":{\"field\":\"x\"},\"y1\":{\"field\":\"y1\"},\"y2\":{\"field\":\"y2\"}},\"id\":\"1758\",\"type\":\"VArea\"},{\"attributes\":{},\"id\":\"1739\",\"type\":\"BasicTicker\"},{\"attributes\":{},\"id\":\"1870\",\"type\":\"Selection\"},{\"attributes\":{\"data\":{\"x\":[0,1],\"y1\":[0.38708954711041155,0.38708954711041155],\"y2\":[0,0]},\"selected\":{\"id\":\"1898\"},\"selection_policy\":{\"id\":\"1899\"}},\"id\":\"1756\",\"type\":\"ColumnDataSource\"},{\"attributes\":{},\"id\":\"1871\",\"type\":\"UnionRenderers\"},{\"attributes\":{\"data_source\":{\"id\":\"1720\"},\"glyph\":{\"id\":\"1721\"},\"hover_glyph\":null,\"muted_glyph\":null,\"nonselection_glyph\":{\"id\":\"1722\"},\"view\":{\"id\":\"1724\"}},\"id\":\"1723\",\"type\":\"GlyphRenderer\"},{\"attributes\":{\"overlay\":{\"id\":\"1666\"}},\"id\":\"1662\",\"type\":\"BoxZoomTool\"},{\"attributes\":{\"line_alpha\":0.1,\"line_color\":\"#1f77b4\",\"line_width\":2,\"x\":{\"field\":\"x\"},\"y\":{\"field\":\"y\"}},\"id\":\"1722\",\"type\":\"Line\"},{\"attributes\":{},\"id\":\"1728\",\"type\":\"DataRange1d\"},{\"attributes\":{},\"id\":\"1732\",\"type\":\"LinearScale\"},{\"attributes\":{},\"id\":\"1881\",\"type\":\"BasicTickFormatter\"},{\"attributes\":{\"active_multi\":null,\"tools\":[{\"id\":\"1660\"},{\"id\":\"1661\"},{\"id\":\"1662\"},{\"id\":\"1663\"},{\"id\":\"1664\"},{\"id\":\"1665\"}]},\"id\":\"1667\",\"type\":\"Toolbar\"},{\"attributes\":{\"data_source\":{\"id\":\"1633\"},\"glyph\":{\"id\":\"1634\"},\"hover_glyph\":null,\"muted_glyph\":null,\"nonselection_glyph\":{\"id\":\"1635\"},\"view\":{\"id\":\"1637\"}},\"id\":\"1636\",\"type\":\"GlyphRenderer\"},{\"attributes\":{},\"id\":\"1882\",\"type\":\"AllLabels\"},{\"attributes\":{\"formatter\":{\"id\":\"1892\"},\"major_label_policy\":{\"id\":\"1893\"},\"ticker\":{\"id\":\"1739\"}},\"id\":\"1738\",\"type\":\"LinearAxis\"},{\"attributes\":{},\"id\":\"1730\",\"type\":\"LinearScale\"},{\"attributes\":{},\"id\":\"1663\",\"type\":\"SaveTool\"},{\"attributes\":{},\"id\":\"1747\",\"type\":\"HelpTool\"},{\"attributes\":{\"active_multi\":null,\"tools\":[{\"id\":\"1742\"},{\"id\":\"1743\"},{\"id\":\"1744\"},{\"id\":\"1745\"},{\"id\":\"1746\"},{\"id\":\"1747\"}]},\"id\":\"1749\",\"type\":\"Toolbar\"},{\"attributes\":{},\"id\":\"1872\",\"type\":\"Selection\"},{\"attributes\":{\"line_alpha\":0.1,\"line_color\":\"#1f77b4\",\"line_width\":2,\"x\":{\"field\":\"x\"},\"y\":{\"field\":\"y\"}},\"id\":\"1640\",\"type\":\"Line\"},{\"attributes\":{},\"id\":\"1873\",\"type\":\"UnionRenderers\"},{\"attributes\":{\"bottom_units\":\"screen\",\"fill_alpha\":0.5,\"fill_color\":\"lightgrey\",\"left_units\":\"screen\",\"level\":\"overlay\",\"line_alpha\":1.0,\"line_color\":\"black\",\"line_dash\":[4,4],\"line_width\":2,\"right_units\":\"screen\",\"syncable\":false,\"top_units\":\"screen\"},\"id\":\"1748\",\"type\":\"BoxAnnotation\"},{\"attributes\":{\"formatter\":{\"id\":\"1850\"},\"major_label_policy\":{\"id\":\"1851\"},\"ticker\":{\"id\":\"1616\"}},\"id\":\"1615\",\"type\":\"LinearAxis\"},{\"attributes\":{\"axis\":{\"id\":\"1734\"},\"ticker\":null},\"id\":\"1737\",\"type\":\"Grid\"},{\"attributes\":{},\"id\":\"1619\",\"type\":\"PanTool\"},{\"attributes\":{},\"id\":\"1607\",\"type\":\"LinearScale\"},{\"attributes\":{},\"id\":\"1605\",\"type\":\"DataRange1d\"},{\"attributes\":{\"formatter\":{\"id\":\"1878\"},\"major_label_policy\":{\"id\":\"1879\"},\"ticker\":{\"id\":\"1698\"}},\"id\":\"1697\",\"type\":\"LinearAxis\"},{\"attributes\":{\"formatter\":{\"id\":\"1881\"},\"major_label_policy\":{\"id\":\"1882\"},\"ticker\":{\"id\":\"1694\"}},\"id\":\"1693\",\"type\":\"LinearAxis\"},{\"attributes\":{},\"id\":\"1664\",\"type\":\"ResetTool\"},{\"attributes\":{},\"id\":\"1646\",\"type\":\"DataRange1d\"},{\"attributes\":{\"axis\":{\"id\":\"1697\"},\"dimension\":1,\"ticker\":null},\"id\":\"1700\",\"type\":\"Grid\"},{\"attributes\":{},\"id\":\"1706\",\"type\":\"HelpTool\"},{\"attributes\":{},\"id\":\"1616\",\"type\":\"BasicTicker\"},{\"attributes\":{},\"id\":\"1698\",\"type\":\"BasicTicker\"},{\"attributes\":{\"active_multi\":null,\"tools\":[{\"id\":\"1701\"},{\"id\":\"1702\"},{\"id\":\"1703\"},{\"id\":\"1704\"},{\"id\":\"1705\"},{\"id\":\"1706\"}]},\"id\":\"1708\",\"type\":\"Toolbar\"},{\"attributes\":{},\"id\":\"1702\",\"type\":\"WheelZoomTool\"},{\"attributes\":{},\"id\":\"1701\",\"type\":\"PanTool\"},{\"attributes\":{\"axis\":{\"id\":\"1652\"},\"ticker\":null},\"id\":\"1655\",\"type\":\"Grid\"},{\"attributes\":{\"overlay\":{\"id\":\"1707\"}},\"id\":\"1703\",\"type\":\"BoxZoomTool\"},{\"attributes\":{\"bottom_units\":\"screen\",\"fill_alpha\":0.5,\"fill_color\":\"lightgrey\",\"left_units\":\"screen\",\"level\":\"overlay\",\"line_alpha\":1.0,\"line_color\":\"black\",\"line_dash\":[4,4],\"line_width\":2,\"right_units\":\"screen\",\"syncable\":false,\"top_units\":\"screen\"},\"id\":\"1625\",\"type\":\"BoxAnnotation\"},{\"attributes\":{},\"id\":\"1624\",\"type\":\"HelpTool\"},{\"attributes\":{},\"id\":\"1704\",\"type\":\"SaveTool\"},{\"attributes\":{\"fill_alpha\":0.8,\"fill_color\":\"PaleGreen\",\"x\":{\"field\":\"x\"},\"y1\":{\"field\":\"y1\"},\"y2\":{\"field\":\"y2\"}},\"id\":\"1675\",\"type\":\"VArea\"},{\"attributes\":{\"axis\":{\"id\":\"1615\"},\"dimension\":1,\"ticker\":null},\"id\":\"1618\",\"type\":\"Grid\"},{\"attributes\":{},\"id\":\"1884\",\"type\":\"Selection\"},{\"attributes\":{},\"id\":\"1653\",\"type\":\"BasicTicker\"},{\"attributes\":{\"formatter\":{\"id\":\"1895\"},\"major_label_policy\":{\"id\":\"1896\"},\"ticker\":{\"id\":\"1735\"}},\"id\":\"1734\",\"type\":\"LinearAxis\"}],\"root_ids\":[\"1935\"]},\"title\":\"Bokeh Application\",\"version\":\"2.3.1\"}};\n",
       "  var render_items = [{\"docid\":\"6b4d08be-d3a5-43d2-8ddd-d7908d119d35\",\"root_ids\":[\"1935\"],\"roots\":{\"1935\":\"853e7403-f512-4a40-af61-2d73fea6ecdb\"}}];\n",
       "  root.Bokeh.embed.embed_items_notebook(docs_json, render_items);\n",
       "\n",
       "  }\n",
       "  if (root.Bokeh !== undefined) {\n",
       "    embed_document(root);\n",
       "  } else {\n",
       "    var attempts = 0;\n",
       "    var timer = setInterval(function(root) {\n",
       "      if (root.Bokeh !== undefined) {\n",
       "        clearInterval(timer);\n",
       "        embed_document(root);\n",
       "      } else {\n",
       "        attempts++;\n",
       "        if (attempts > 100) {\n",
       "          clearInterval(timer);\n",
       "          console.log(\"Bokeh: ERROR: Unable to run BokehJS code because BokehJS library is missing\");\n",
       "        }\n",
       "      }\n",
       "    }, 10, root)\n",
       "  }\n",
       "})(window);"
      ],
      "application/vnd.bokehjs_exec.v0+json": ""
     },
     "metadata": {
      "application/vnd.bokehjs_exec.v0+json": {
       "id": "1935"
      }
     },
     "output_type": "display_data"
    }
   ],
   "source": [
    "#figure 5\n",
    "figures = []\n",
    "for i in range(6):\n",
    "    randnum = random.random()\n",
    "    fig5 = figure(width=200, height=200,match_aspect = True)\n",
    "    fig5.varea(x=[0,1],y1=[randnum,randnum],y2=[0,0],color='PaleGreen',fill_alpha=0.8)\n",
    "    fig5.line(x=[0,1],y=[0,1],line_width=2)\n",
    "    figures.append(fig5)\n",
    "\n",
    "show(gridplot(figures,ncols=3))"
   ]
  },
  {
   "cell_type": "markdown",
   "metadata": {},
   "source": [
    "Now we can estimate the integral:"
   ]
  },
  {
   "cell_type": "code",
   "execution_count": 9,
   "metadata": {
    "ExecuteTime": {
     "end_time": "2021-04-25T04:40:57.315751Z",
     "start_time": "2021-04-25T04:40:57.293838Z"
    }
   },
   "outputs": [
    {
     "name": "stdout",
     "output_type": "stream",
     "text": [
      "\r",
      "Area =  0.49812 ,  Error:  0.00376"
     ]
    }
   ],
   "source": [
    "integral = 0\n",
    "for i in range(10000):\n",
    "    #In this particular case,f(x)*(b-a) = x\n",
    "    integral += random.random()\n",
    "integral /= 10000\n",
    "error = abs(1-(integral/0.5))\n",
    "print('\\rArea = ',\"{:.5f}\".format(integral),',  Error: ',\"{:.5f}\".format(error), end='')"
   ]
  },
  {
   "cell_type": "markdown",
   "metadata": {},
   "source": [
    "## Sales Forecast\n",
    "\n",
    "Financial experts often use Monte Carlo methods to evaluate business models or evaluate risks and uncertainties. In this section, we will evaluate a business plan of bubble tea shop.\n",
    "\n",
    "The net profit of a business can be calculated by:\n",
    "\n",
    "&emsp; Net Profit = Sales Volume* (Selling Price - Unit cost) - Fixed costs\n",
    "\n",
    "Lets say our bubble tea shop only sells one kind of drink, and the drink is sold at \\\\$8 in an okay year. You are able to sell 50,000 drinks this year, making \\\\$400,000 of revenue. \n",
    "\n",
    "In a bad year, customers dont drink as much bubble tea so you will only be able to sell 30,000 drinks. You need to price the drink higher at \\\\$11 though, because you don't want your revenue to look bad. You will make \\\\$330,000 revenue in a bad year.\n",
    "\n",
    "In a good year, you will be able to sell 80,000 drinks. However, competitors see a big market in bubble tea and decided to join. You will have to lower your price at \\\\$6 to compete with other bubble tea shops. You will make \\\\$440,000 revenue in a good year.\n",
    "\n",
    "Lets say there is an equal chance of being a bad, okay, or a good year.\n",
    "\n",
    "The cost of the drink can be around \\\\$5 with standard deviation of \\\\$1 because of the fluctuation in the price of ingredients.\n",
    "\n",
    "Additionally, your shop needs \\\\$140,000 each year for rent, salaries, etc.\n",
    "\n",
    "We can now calculate how much we can make in a year:"
   ]
  },
  {
   "cell_type": "code",
   "execution_count": 10,
   "metadata": {
    "ExecuteTime": {
     "end_time": "2021-04-25T04:40:57.365525Z",
     "start_time": "2021-04-25T04:40:57.332365Z"
    },
    "scrolled": true
   },
   "outputs": [
    {
     "data": {
      "application/vnd.jupyter.widget-view+json": {
       "model_id": "8fcba5c033394777a1fb1d8137e39daf",
       "version_major": 2,
       "version_minor": 0
      },
      "text/plain": [
       "Select(description='Market is:', index=1, options=('Bad', 'Okay', 'Good'), value='Okay')"
      ]
     },
     "metadata": {},
     "output_type": "display_data"
    },
    {
     "name": "stdout",
     "output_type": "stream",
     "text": [
      "Profit in a random bad year:  21566.7845"
     ]
    }
   ],
   "source": [
    "# The number of sales, and selling price per unit according to the sentiment of the market\n",
    "market = {'Bad':(30000,11),\n",
    "         'Okay':(50000,8),\n",
    "         'Good':(80000,6)}\n",
    "fixed_cost = 140000\n",
    "market_selector = widgets.Select(\n",
    "    options=market.keys(),\n",
    "    value='Okay',\n",
    "    description='Market is:',\n",
    "    disabled=False\n",
    ")\n",
    "#Unit cost can fluctuate around $5\n",
    "#Net Profit = Sales Volume* (Selling Price - Unit cost) - Fixed costs\n",
    "def market_change_handler(change):\n",
    "    sentiment = change.new\n",
    "    cost = np.random.normal(5,1)\n",
    "    volume = market[sentiment][0]\n",
    "    price = market[sentiment][1]\n",
    "    profit = volume*(price - cost)-fixed_cost\n",
    "    print('\\rProfit in a random',sentiment.lower(),'year: ',\"{:.2f}\".format(profit),end='')\n",
    "\n",
    "market_selector.observe(market_change_handler,names='value')\n",
    "display(market_selector)"
   ]
  },
  {
   "cell_type": "markdown",
   "metadata": {},
   "source": [
    "But how do we know how much we are going to make in any year?\n",
    "\n",
    "Intuitively, we can predict the sales by taking the average of the quantities to obtain the profit for a year.\n",
    "\n",
    "* Sales Volume = (30000+50000+80000)/3 = 53333.33\n",
    "* Selling Price = (11+8+6)/3 = 8.33\n",
    "* Unit cost = 5\n",
    "\n",
    "Therefore, our net profit for a year will be:\n",
    "\n",
    "&emsp;Net Profit = 53333.33*(8.33-5) - 140000 = 37777.77\n",
    "\n",
    "Great! We can make over \\\\$30000 a year!\n",
    "\n",
    "<br>\n",
    "\n",
    "However, predicting net profit with a Monte Carlo approach tells us a different answer:"
   ]
  },
  {
   "cell_type": "code",
   "execution_count": 11,
   "metadata": {
    "ExecuteTime": {
     "end_time": "2021-04-25T04:40:57.393864Z",
     "start_time": "2021-04-25T04:40:57.370799Z"
    },
    "scrolled": true
   },
   "outputs": [
    {
     "data": {
      "application/vnd.jupyter.widget-view+json": {
       "model_id": "f634e8eedaad4adab02ed7a05d4668bc",
       "version_major": 2,
       "version_minor": 0
      },
      "text/plain": [
       "Text(value='0', description='N trials:')"
      ]
     },
     "metadata": {},
     "output_type": "display_data"
    },
    {
     "name": "stdout",
     "output_type": "stream",
     "text": [
      "Projected profit: -3671.94"
     ]
    }
   ],
   "source": [
    "n_trials_input = widgets.Text(\n",
    "    value='0',\n",
    "    description='N trials:',\n",
    "    disabled=False\n",
    ")\n",
    "\n",
    "def calculate_profit(n_trials):\n",
    "    n_trials = int(n_trials.value)\n",
    "    if(n_trials != 0): \n",
    "        profit = 0\n",
    "        for i in range(n_trials):\n",
    "            sentiment = random.choice(list(market.keys()))\n",
    "            cost = np.random.normal(5,1)\n",
    "            volume = market[sentiment][0]\n",
    "            price = market[sentiment][1]\n",
    "            profit += volume*(price - cost)-fixed_cost\n",
    "        print('\\rProjected profit:',\"{:.2f}\".format(profit/n_trials),end='')\n",
    "\n",
    "n_trials_input.on_submit(calculate_profit)\n",
    "display(n_trials_input)"
   ]
  },
  {
   "cell_type": "markdown",
   "metadata": {},
   "source": [
    "As we increase N, we observe that the bubble tea shop is projected to not be profitable at all !!!"
   ]
  },
  {
   "cell_type": "markdown",
   "metadata": {},
   "source": [
    "## Conclusion\n",
    "Monte Carlo methods are powerful yet easy and flexible. Because of the increasing speed of modern computers, the execution of Monte Carlo methods do not consume a lot of time. However, Monte Carlo methods have their limitations. One of which being there are always unknown factors that Monte Carlo methods cannot account, especially in the area of finance. Also, we are unable to model correlations between the input and the output. Hence, we cannot learn anything from the process. "
   ]
  },
  {
   "cell_type": "markdown",
   "metadata": {},
   "source": [
    "## References\n",
    "1. https://www.degruyter.com/document/doi/10.1515/mcma-2016-0102/html\n",
    "2. https://ipywidgets.readthedocs.io/en/latest/examples/Widget%20List.html\n",
    "3. https://www.solver.com/monte-carlo-simulation-example"
   ]
  }
 ],
 "metadata": {
  "kernelspec": {
   "display_name": "Python 3",
   "language": "python",
   "name": "python3"
  },
  "language_info": {
   "codemirror_mode": {
    "name": "ipython",
    "version": 3
   },
   "file_extension": ".py",
   "mimetype": "text/x-python",
   "name": "python",
   "nbconvert_exporter": "python",
   "pygments_lexer": "ipython3",
   "version": "3.9.4"
  },
  "varInspector": {
   "cols": {
    "lenName": 16,
    "lenType": 16,
    "lenVar": 40
   },
   "kernels_config": {
    "python": {
     "delete_cmd_postfix": "",
     "delete_cmd_prefix": "del ",
     "library": "var_list.py",
     "varRefreshCmd": "print(var_dic_list())"
    },
    "r": {
     "delete_cmd_postfix": ") ",
     "delete_cmd_prefix": "rm(",
     "library": "var_list.r",
     "varRefreshCmd": "cat(var_dic_list()) "
    }
   },
   "types_to_exclude": [
    "module",
    "function",
    "builtin_function_or_method",
    "instance",
    "_Feature"
   ],
   "window_display": false
  }
 },
 "nbformat": 4,
 "nbformat_minor": 2
}
